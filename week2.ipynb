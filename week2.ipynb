{
 "cells": [
  {
   "cell_type": "markdown",
   "metadata": {},
   "source": [
    "# Lab 2: Rheology"
   ]
  },
  {
   "cell_type": "markdown",
   "metadata": {},
   "source": [
    "## Introduction\n",
    "\n",
    "When you jump into a swimming pool, it's a completely different experience from putting your fist through a window. This has to do with the differences in <i><b>rheology</b></i> between glass and water. <i><b>Rheology describes the way in which a material deforms in response to stress.</b></i> Glass responds to your fist by shattering in a brittle fashion, while water flows around you when you jump into the pool. In this lab we will explore different types of deformation, and will apply our new knowledge of deformation to some geologic problems."
   ]
  },
  {
   "cell_type": "markdown",
   "metadata": {},
   "source": [
    "## Learning goals\n",
    "\n",
    "By the end of this lab, students should be able to:\n",
    "1. Describe the physical relationship between stress and strain in elastic materials\n",
    "3. Make basic plots using matplotlib\n",
    "4. Contextualize modes of deformation in terms of geologic processes"
   ]
  },
  {
   "cell_type": "markdown",
   "metadata": {},
   "source": [
    "## Background"
   ]
  },
  {
   "cell_type": "markdown",
   "metadata": {},
   "source": [
    "### Stress and strain\n",
    "\n",
    "As suggested in the introduction, different substances respond to stress in different ways. <i><b>Stress</b></i>, denoted by $\\sigma$, is a force per unit area exerted on an object. <b><i>Strain</i></b>, $\\epsilon$, is the objects's response to stress. Strain is expressed as a unitless number describing the change that an object has undergone (e.g., lateral stretching, shearing, etc.). \n",
    "\n",
    "In physics-speak, \"normal\" means \"perpendicular to a surface.\" Therefore, we call a strain that results from stress applied perpendicular to a surface the <b><i>normal strain</i></b> ($\\epsilon_N$). Normal strain may be computed by dividing the change in length by the original length. It is generally expressed as a percentage, hence why we multiply by 100 below.\n",
    "\n",
    "### $\\epsilon_N = \\frac{\\Delta L}{L} * 100$\n",
    "\n",
    "Objects responding to stress can also exhibit <b><i>shear strain ($\\gamma$)</i></b>, which is written as\n",
    "\n",
    "### $\\gamma = \\tan \\beta$\n",
    "\n",
    "Unlike normal strain, which results from stress applied perpendicular to a surface, shear strain results from stress applied parallel to a surface. This type of strain is calculated from the tangent of the angle between the original and deformed sides. Both are shown below (from Sharir et al., 2008). \n",
    "\n",
    "<div>\n",
    "<img src=\"data/normal_vs_shear.png\" align=\"center\" width=\"500\"/>\n",
    "</div>"
   ]
  },
  {
   "cell_type": "markdown",
   "metadata": {},
   "source": [
    "## Rheology (style of deformation)\n",
    "\n",
    "Normal and shear strain broadly describe deformation as a response to applied stresses; however, these terms tell us more about the stress that was applied than about the characteristic behavior of the material undergoing deformation. To understand material behavior, we recognize three modes of deformation: elastic, brittle-plastic, and viscous/ductile. "
   ]
  },
  {
   "cell_type": "markdown",
   "metadata": {},
   "source": [
    "### Elastic \n",
    "\n",
    "Elastic materials, such as springs, rubber bands, and moon shoes, strain in proportion to the stress applied. In the case of deformation of a spring, we write Hooke's Law. This law states that the force (which is related to stress by unit area) required to displace an object some distance is equal to the length of displacement times a constant\n",
    "\n",
    "$F = kx$ \n",
    "\n",
    "where $x$ is the change in length of the object undergoing deformation and $k$ is the <b><i>spring constant</i></b>. Can you work out the units of $k$? Now think carefully about what this equation tells us about material behavior. We can see that if the force applied is 0, displacement must also be 0. This is the defining characteristic of elastic objects: they regain their original shape when the force applied is removed. This lab will focus on elastic deformation. \n",
    "\n",
    "Hooke's Law can be written in a more general form as\n",
    "\n",
    "$\\sigma = E\\epsilon$\n",
    "\n",
    "where $E$ is a factor called Young's modulus, and $\\sigma$ and $\\epsilon$ have been defined above as stress and strain, respectively."
   ]
  },
  {
   "cell_type": "markdown",
   "metadata": {},
   "source": [
    "### Brittle-plastic deformation\n",
    "\n",
    "Many materials fall into the plastic rheology class. These materials can withstand a finite amount of stress for which they will experience minimal strain. However, when stress exceeds the material's strength, they will begin to deform permanently (and often rapidly). If the deformation is discontinuous (meaning the material physically shatters), such as the crust fracturing in a geologic fault zone, we say it is <i><b>brittle-plastic</b></i> deformation. If deformation is continuous, permanent, and requires crossing a stress threshold to occur, then we say it is <b><i>plastic, or ductile</i></b>. Can you think of an example of ductile deformation?\n",
    "\n",
    "The schematic below (from degreetutors.com) illustrates stress-strain relationships in plastic materials.\n",
    "\n",
    "<img src = 'data/stress_strain.png' align = 'center' width = '600'> "
   ]
  },
  {
   "cell_type": "markdown",
   "metadata": {},
   "source": [
    "### Linear viscous\n",
    "\n",
    "Linear viscous materials (linear viscous fluids) undergo continuous and permanent deformation. This means that unlike plastic materials, there is no strength threshold that needs to be exceeded for deformation to occur. And unlike elastic materials, linear viscous fluids do not \"bounce back\" from an applied stress.\n",
    "\n",
    "Think about the example of jumping into a pool of water. The fact that the water reshapes to a flat surface after you jump into the pool does not mean that the deformation has been undone, just that the process of deformation involved water moving until its new surface was flat. If we could see the individual water molecules, we would see that the structure of the fluid is irreversibly changed every time it deforms. \n",
    "\n",
    "We will discuss viscous rheologies more in the next lab. For now, you should know that linear viscous fluids exhibit a linear relationship between stress and strain rate, multiplied by the fluid's dynamic viscosity. We typically expresses linear viscous deformation in terms of the shear component of stress and the shear strain rate:\n",
    "\n",
    "$\\tau = \\mu \\frac{d\\gamma}{dt}$\n",
    "\n",
    "where $\\tau$ is shear stress, $\\mu$ is dynamic viscosity, and $\\frac{d\\gamma}{dt}$ is shear strain rate.\n",
    "\n",
    "As we think explore rheology throughout today's lab, ask yourself: \n",
    "- Why are elastic and plastic rheologies expressed in terms of strain, and linear viscous rheology is in terms of strain rate?\n",
    "- Why do we only care about the shear component in linear viscous deformation? \n",
    "- Does this makes sense to you? Why or why not?\n",
    "\n",
    "We will explore these ideas more in our next lab."
   ]
  },
  {
   "cell_type": "markdown",
   "metadata": {},
   "source": [
    "## An example"
   ]
  },
  {
   "cell_type": "markdown",
   "metadata": {},
   "source": [
    "Let's say you collected the following data in a lab setting where you measured the displacement of a spring for every time different weights (here we use pennies) were suspended from it. You want to analyze this data to determine a relationship between stress and strain for this material. You have the following data:"
   ]
  },
  {
   "cell_type": "code",
   "execution_count": null,
   "metadata": {},
   "outputs": [],
   "source": [
    "# we'll be doing some basic math and plotting, so we need to import a couple of libraries\n",
    "\n",
    "import numpy as np\n",
    "import matplotlib.pyplot as plt"
   ]
  },
  {
   "cell_type": "code",
   "execution_count": null,
   "metadata": {},
   "outputs": [],
   "source": [
    "# masses and weights\n",
    "\n",
    "g = 9.81 # gravitational accleration, m/s^2\n",
    "mass_of_penny = 2.50 # grams\n",
    "weight_of_penny = g*mass_of_penny\n",
    "\n",
    "# a quick way to put all of the weights you tested into an array is to use np.arange, \n",
    "# provided that the weights were tested in evenly-sized increments. \n",
    "# we started without any pennies suspended from our spring, so our range will start at 0\n",
    "# the greatest number of pennies that we tested was 20. \n",
    "# Since np.arange goes up to but does not include our \"stop\" value, \n",
    "# we will set the \"stop\" value to be 1 higher than 20, as below\n",
    "# the 5 at the end tells numpy to count by 5, because we weighed pennies in multiples of 5\n",
    "penny_array = np.arange(0, 21, 5)\n",
    "\n",
    "# now we want to convert the number of pennies tested in each trial into a weight\n",
    "# we can do this by performing an operation on the penny_array, and saving that result to a new array\n",
    "weight_array = penny_array * weight_of_penny\n",
    "\n",
    "# let's perform another operation to make sure the weights are in kg m/s^2 (currently they are g m/s^2)\n",
    "# we can do this by dividing by 1000\n",
    "weight_array_kg = weight_array/1000\n",
    "\n",
    "# print all arrays to make sure you understand what's happened:\n",
    "print(penny_array)\n",
    "print(weight_array)\n",
    "print(weight_array_kg)"
   ]
  },
  {
   "cell_type": "code",
   "execution_count": null,
   "metadata": {},
   "outputs": [],
   "source": [
    "# now we'll create an array to store the length and displacement measurements of our spring\n",
    "# we don't want to use np.arange for this, because we don't know if all of our measurements were equally spaced.\n",
    "# instead, we'll just enter the values by hand\n",
    "# this time, instead of starting at 0, we'll start at 4, because the original length of our spring was four inches\n",
    "length_array_inches = np.array([4, 4.125, 4.25, 4.375, 4.5])\n",
    "\n",
    "# however, what we're really interested in is displacement, not length.\n",
    "# to get displacement, we'll subtract the initial length from the entire array\n",
    "displacement_array_inches = length_array_inches - 4\n",
    "\n",
    "# we want units in meters, so we'll perform another array operation\n",
    "displacement_array_m = displacement_array_inches/39.4 # there are 39.4 inches in a meter\n",
    "\n",
    "# again, print your arrays to make sure you've followed along\n",
    "print(length_array_inches)\n",
    "print(displacement_array_inches)\n",
    "print(displacement_array_m)"
   ]
  },
  {
   "cell_type": "code",
   "execution_count": null,
   "metadata": {},
   "outputs": [],
   "source": [
    "# when we plot our data, we'll want to make sure that our x and y data are of the same length and type\n",
    "# check them out now before plotting\n",
    "\n",
    "print('weight array kg type: ', type(weight_array_kg))\n",
    "print('weight array kg length: ', len(weight_array_kg))\n",
    "print('displacement array m type: ', type(displacement_array_m))\n",
    "print('displacement array m length: ', len(displacement_array_m))"
   ]
  },
  {
   "cell_type": "code",
   "execution_count": null,
   "metadata": {},
   "outputs": [],
   "source": [
    "# time to plot! \n",
    "# we want our weight (force) on the x-axis, and displacement on the y-axis\n",
    "\n",
    "# make the plot. Attributes of the generic appearance (color, fontsize, etc) are all defaults that can be changed\n",
    "plt.plot(weight_array_kg, displacement_array_m, label = 'spring 1')\n",
    "plt.title('Hooke\\'s Law for a spring')\n",
    "plt.xlabel('Force (N)')\n",
    "plt.ylabel('Displacement (m)')\n",
    "plt.legend()\n",
    "plt.show()\n",
    "\n",
    "# you can play with this plot by \"commenting out\" lines of code to figure out exactly what each line does\n",
    "# to \"comment out,\" simply place a # at the start of the line of code. This makes it inactive."
   ]
  },
  {
   "cell_type": "markdown",
   "metadata": {},
   "source": [
    "And that's all there is to it! You can embellish this plot with different colors, a larger font size, annotations, etc., but it has the functional basics now. We can see that the relationship between force and displacement is indeed linear, so we could have used `np.arange` to format the displacement measurements rather than entering them by hand. However, entering them by hand allowed us to prove this relationship to ourselves."
   ]
  },
  {
   "cell_type": "markdown",
   "metadata": {},
   "source": [
    "## Questions"
   ]
  },
  {
   "cell_type": "markdown",
   "metadata": {},
   "source": [
    "1. In the background section of this lab, we state Hooke's Law for spring deformation:\n",
    "\n",
    "    $F = xk$\n",
    "\n",
    "    We then state a \"more general\" equation with a parameter $E$, the Young's modulus: \n",
    "\n",
    "    $ \\sigma = E\\epsilon$\n",
    "\n",
    "    We say that these are equivalent; how can we get from one equation to the other?"
   ]
  },
  {
   "cell_type": "markdown",
   "metadata": {},
   "source": [
    "2. In one or two sentences, please explain the relationship between stress and strain in elastic materials. What is the characteristic behavior of these materials?"
   ]
  },
  {
   "cell_type": "markdown",
   "metadata": {},
   "source": [
    "3. Imagine you tested the same set of weights as used in the example on a different spring. The amount of extension experienced by the new spring was triple the extension in the original spring for each weight. Please manipulate the already created `displacement_array_m` to reflect this change. Then, please make a plot with both lines appearing on the same graph (HINT: a lot of coding is searching the internet for an example where someone else has already tackled a similar problem. In this case, a quick Google of \"how to put two lines on one graph matplotlib\" will help if you're stuck). You're plot should include axis labels, titles, etc, just like the example. Finally, summarize the plot in one or two sentences, relating the lines that you've graphed to Hooke's Law. What does this tell you about the materials?"
   ]
  },
  {
   "cell_type": "markdown",
   "metadata": {},
   "source": [
    "4. Like many materials, the Earth's crust can display a combination of rheologic behaviors. Can you think of an example of the crust behaving in each of the following ways? Please justify.\n",
    "    - elastic\n",
    "    - brittle-plastic\n",
    "    - ductile"
   ]
  },
  {
   "cell_type": "markdown",
   "metadata": {},
   "source": [
    "## Solutions"
   ]
  },
  {
   "cell_type": "markdown",
   "metadata": {},
   "source": [
    "1. We can transition between Hooke's Law and the Young's modulus equation by recalling that stress is a force per unit area. Therefore, we need only divide Hooke's Law by a unit area in order to be working in terms of stress, as in the Young's modulus equation. "
   ]
  },
  {
   "cell_type": "markdown",
   "metadata": {},
   "source": [
    "2. Stress and strain are linearly proportional in elastic materials. This means that for every incremental increase in stress, strain increases the same amount. The characteristic behavior of these materials is that when a stress (or force) ceases to be applied, the object regains its original, undeformed shape."
   ]
  },
  {
   "cell_type": "markdown",
   "metadata": {},
   "source": [
    "3. The steps for this problem are:\n",
    "    - multiply the displacement array by 3\n",
    "    - plot the new displacements on a plot that also contains the original displacements\n",
    "    - say a few words about what the graph shows"
   ]
  },
  {
   "cell_type": "code",
   "execution_count": null,
   "metadata": {},
   "outputs": [],
   "source": [
    "# multiply the original displacement array by 3\n",
    "displacement_array_m_3x = displacement_array_m * 3\n",
    "print(displacement_array_m_3x)"
   ]
  },
  {
   "cell_type": "code",
   "execution_count": null,
   "metadata": {},
   "outputs": [],
   "source": [
    "# plot both sets of experiments on the same plot, this time including legends\n",
    "plt.plot(weight_array_kg, displacement_array_m, label = 'spring 1')\n",
    "plt.plot(weight_array_kg, displacement_array_m_3x, label = 'spring 2')\n",
    "plt.title('Hooke\\'s Law for two springs')\n",
    "plt.xlabel('Force (N)')\n",
    "plt.ylabel('Displacement (m)')\n",
    "plt.legend()\n",
    "plt.show()"
   ]
  },
  {
   "cell_type": "markdown",
   "metadata": {},
   "source": [
    "The slope of these lines is equal to the spring constant, $k$, from Hooke's Law. This shows us that spring 1 has a higher spring constant. This means that it requires more force on spring 1 to produce the same amount of displacement as on spring 2. We could say that spring 1 is more \"rigid\" than spring 2."
   ]
  },
  {
   "cell_type": "markdown",
   "metadata": {},
   "source": [
    "4. The crust behaves like an elastic solid when it undergoes isostatic rebound after an ice sheet melts, because it returns to its undeformed shape once the stress ceases to be applied. A fault is an example of brittle-plastic deformation, because the strain is permanent and discontinuous, meaning that the material has physically fractured. And the crust can behave in a ductile fashion at depth when rock layers become folded in an orogen. In this type of deformation, the strain is permanent but the crust hasn't physically broken apart. "
   ]
  },
  {
   "cell_type": "code",
   "execution_count": null,
   "metadata": {},
   "outputs": [],
   "source": []
  }
 ],
 "metadata": {
  "kernelspec": {
   "display_name": "Python 3",
   "language": "python",
   "name": "python3"
  },
  "language_info": {
   "codemirror_mode": {
    "name": "ipython",
    "version": 3
   },
   "file_extension": ".py",
   "mimetype": "text/x-python",
   "name": "python",
   "nbconvert_exporter": "python",
   "pygments_lexer": "ipython3",
   "version": "3.7.7"
  }
 },
 "nbformat": 4,
 "nbformat_minor": 4
}
