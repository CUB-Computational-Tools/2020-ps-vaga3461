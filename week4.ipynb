{
 "cells": [
  {
   "cell_type": "code",
   "execution_count": 1,
   "metadata": {},
   "outputs": [],
   "source": [
    "# background\n",
    "# example (with function and for loop)\n",
    "# questions\n",
    "# summary - opens doors to quantifying bankfull stuff\n",
    "# solutions\n",
    "# refs"
   ]
  },
  {
   "cell_type": "markdown",
   "metadata": {},
   "source": [
    "# Week 4: Basics of Sediment Transport"
   ]
  },
  {
   "cell_type": "markdown",
   "metadata": {},
   "source": [
    "## Introduction\n",
    "\n",
    "Why do some rivers carry large cobbles, and others only transport fine silt and clay? In your introductory geology classes, you've probably learned to classify fluvial environments in terms of their <i>energy.</i> For example, you might say that a braided stream is a 'high energy' environment, and a meandering river is 'low energy.' This isn't wrong, but it also isn't very quantitiative. How can we discriminate between 'high energy' and 'low energy' systems? Is a single river always 'high' or 'low' energy, or does the energy of a single river change throughout wet and dry seasons? In this lab, we'll learn how to quantitatively determine sediment transport, and we'll use some new programming tools to help us perform these calculations more efficiently. "
   ]
  },
  {
   "cell_type": "markdown",
   "metadata": {},
   "source": [
    "## Learning goals\n",
    "\n",
    "By the end of this lab, students should be able to:\n",
    "\n",
    "- Discuss the governing factors of sediment transport \n",
    "- Perform calculations to find bed shear stress, and turn those calclations into estimates of maximum transportable grain size\n",
    "- Write a function to modularize a sediment transport calculation"
   ]
  },
  {
   "cell_type": "markdown",
   "metadata": {},
   "source": [
    "## Prerequisites\n",
    "\n",
    "Students participating in this lab should already have basic knowledge of:\n",
    "\n",
    "- concepts and vocabulary in sedimentary geology\n",
    "- matplotlib plotting\n",
    "- numpy arrays"
   ]
  },
  {
   "cell_type": "markdown",
   "metadata": {},
   "source": [
    "## Background"
   ]
  },
  {
   "cell_type": "markdown",
   "metadata": {},
   "source": [
    "### Boundary shear stress\n",
    "\n",
    "When water flows across a stream bed, the water is exerting a <i>force</i> on that surface. Recalling that a stress is a force per unit area, we can also say that the water is exerting a <i>stress</i> on a given area of the stream bed. Stress is a vector quantity, meaning that it has directionality; any stress can be broken down into a normal stress, which acts perpendicular to a surface, and shear stress, which acts parallel to a surface. For problems concerning sediment transport in rivers, we're intersted in the component of stress that acts parallel to the riverbed, exactly at the water-sediment interface. This has a special name: <i><b>boundary shear stress</b></i>. Boundary shear stress, $\\tau_b$, is given by the equation\n",
    "\n",
    "$$\\large{\\tau_b = \\rho g H \\sin(\\theta)}$$\n",
    "\n",
    "where $\\rho$ is the fluid density ($kg/m^3$), $g$ is the acceleration due to gravity ($m/s^2$), $H$ is the depth of the flow ($m$), and $\\theta$ is the slope angle of the riverbed (degrees). Great! Is that all? Not quite. This still isn't telling us about the size of sediment that our river is capable of moving. To fully understand that, we need the meat and potatoes of sediment transport: the <b><i>critical shear stress</i></b>. But first, we'll quickly recap forces balances as a framework for understanding what exactly the critical shear stress represents."
   ]
  },
  {
   "cell_type": "markdown",
   "metadata": {},
   "source": [
    "### A balance of forces\n",
    "\n",
    "Many problems in physics start with an assumption that a system is at steady state, meaning there is no change happening through time, and these problems model that \"steady state\" through a force balance. An example of this would be a box sitting on an inclined ramp, but not sliding down the ramp. What's happening? In this example, a physicist would draw us a force balance diagram that shows that the down-ramp driving component of force ($mg\\sin\\theta$) is perfectly equal and opposite to the up-ramp opposing force of friction ($f$). Thus, the forces are balanced and no motion happens. \n",
    "\n",
    "<img src = 'force balance.png'> \n",
    "$ \\scriptsize{study.com}$\n",
    "\n",
    "But wait! This can't be the case for sediment transport, because the whole point is that <i>motion</i> is occurring! Clearly, while sediment is being transported, the driving forces must outweigh the opposing forces. We won't get into exactly what the \"driving\" and \"opposing\" forces are during today's lab; instead, we'll focus on the moment of <i>transport initiation</i>. This occurs when the critical shear stress is exactly equal to the bed shear stress. The moment critical shear stress is exceeded, sediment transport will occur. So what's the critical shear stress?"
   ]
  },
  {
   "cell_type": "markdown",
   "metadata": {},
   "source": [
    "### Critical shear stress\n",
    "\n",
    "Critical shear stress, $\\tau_c$, is difficult to measure, and for this reason many different empirical formulations exist. Today we'll work with $\\tau_c$ as a dimensional number with units $N/m^2$, but you should also be aware that both boudary shear stress and critical shear stress and frequently transformed into non-dimensional (unitless) numbers. These are called th Shields stress and critical Shields stress, respectively.\n",
    "\n",
    "The critical shear stress formulation we will use today comes from Knighton, 1998:\n",
    "\n",
    "$$\\large\\tau_c = \\tau_c^* g(\\rho_p - \\rho_f)d_i$$\n",
    "\n",
    "where $g$ is acceleration due to gravity ($m/s^2$), $\\rho_p$ is the particle density ($kg/m^3$), $\\rho_f$ is the fluid density ($kg/m^3$), and $d_i$ is the grainsize of interest ($m$). Here $\\tau_c^*$ is a dimensionless shear stress which can be calculated from the following formulation from Andrews, 1984:\n",
    "\n",
    "$$\\large\\tau_c^* = 0.0834\\left( \\frac {d_i}{d_{50}}\\right)^{-0.872} $$\n",
    "\n",
    "where $d_{50}$ is the median grainsize, and the exponents and coefficients have been determined empirically.\n",
    "\n",
    "### A quick note on grain size scales and modes of transport"
   ]
  },
  {
   "cell_type": "markdown",
   "metadata": {},
   "source": [
    "question: How to find largest flow that ever occupied stream bed?\n",
    "How to get info about shear stress if only had grainsize sample?"
   ]
  },
  {
   "cell_type": "markdown",
   "metadata": {},
   "source": [
    "references\n",
    "\n",
    "study.com\n",
    "knighton 1998\n",
    "andrews 1984"
   ]
  },
  {
   "cell_type": "code",
   "execution_count": null,
   "metadata": {},
   "outputs": [],
   "source": []
  }
 ],
 "metadata": {
  "kernelspec": {
   "display_name": "Python 3",
   "language": "python",
   "name": "python3"
  },
  "language_info": {
   "codemirror_mode": {
    "name": "ipython",
    "version": 3
   },
   "file_extension": ".py",
   "mimetype": "text/x-python",
   "name": "python",
   "nbconvert_exporter": "python",
   "pygments_lexer": "ipython3",
   "version": "3.7.6"
  }
 },
 "nbformat": 4,
 "nbformat_minor": 4
}
