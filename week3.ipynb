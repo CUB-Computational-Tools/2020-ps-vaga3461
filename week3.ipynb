{
 "cells": [
  {
   "cell_type": "markdown",
   "metadata": {},
   "source": [
    "# Week 3: Periodic Table of the Elements"
   ]
  },
  {
   "cell_type": "markdown",
   "metadata": {},
   "source": [
    "## Introduction"
   ]
  },
  {
   "cell_type": "markdown",
   "metadata": {},
   "source": [
    "If you cast your mind back to your first chemistry class, you may recall names such as Democritus and Mendeleev. Democritus was one of the first people to hypothesize that all matter is composed on tiny, individual particles (which we now call atoms), and Dmitiri Mendeleev is one of the fathers of our modern periodic table. Both of these men are considered foundational to our current understanding of chemistry, but they were far from alone in their efforts to explain and explore chemical phenomena.\n",
    "\n",
    "A lesser-known figure in the history of the science of chemistry was none other than a geologist, Alexandre-Émile Béguyer de Chancourtois. In the 1860s he published an early version of the periodic table that grouped elements according to their atomic weights. Rather than plotting the elements on a sheet of paper, he graphed them on a cylinder, and this three-dimensional representation allowed him to see clearly what was not obvious in two dimensions: that the elements exhibit physical properties in accordance with their atomic masses, and that there is periodicity (repetition at regular intervals) of these properties as atomic mass increases.  "
   ]
  },
  {
   "cell_type": "markdown",
   "metadata": {},
   "source": [
    "## Learning goals"
   ]
  },
  {
   "cell_type": "markdown",
   "metadata": {},
   "source": [
    "By the end of today's lab, students will be able to do the following:\n",
    "\n",
    "1. Name and define 3 properties of elements\n",
    "2. Label a chart with periodic trends and explain why they take the forms that they do\n",
    "3. Use loops to quickly process large datasets\n",
    "4. Use if - elif - else statements to classify elements"
   ]
  },
  {
   "cell_type": "markdown",
   "metadata": {},
   "source": [
    "## Prerequisites"
   ]
  },
  {
   "cell_type": "markdown",
   "metadata": {},
   "source": [
    "Students enrolled in this lab are expected to already have familiarity with the following:\n",
    "\n",
    "1. Basic atomic properties (atomic mass, atomic number, valence number)\n",
    "2. General organization of the periodic table (periods and families) \n",
    "3. Basic chemistry terminology \n",
    "4. Python lists and arrays\n",
    "5. Pandas dataframes"
   ]
  },
  {
   "cell_type": "markdown",
   "metadata": {},
   "source": [
    "## Background"
   ]
  },
  {
   "cell_type": "markdown",
   "metadata": {},
   "source": [
    "As Béguyer de Chancourtois recognized in the 1860s, periodic trends reflect fundamental properties of the elements, and many of these properties are functions of the atomic weight . Here we will briefly mention the major atomic trends; your job will be to think more deeply about why these trends occur in the patterns that they do. Below is a periodic table of the elements to jog your memory, and at the end of this section you'll find a visual summary of the trends discussed below.\n",
    "\n",
    "<img src=\"data/periodic table1.png\" width = 700>"
   ]
  },
  {
   "cell_type": "markdown",
   "metadata": {},
   "source": [
    "### Atomic radius\n",
    "\n",
    "Atomic radius is the size of an atom, measured from the center of its nucleus to the outer shell of electrons. Atomic radius tends to decrease from left to right across periods, and increase from top to bottom within families."
   ]
  },
  {
   "cell_type": "markdown",
   "metadata": {},
   "source": [
    "### Electronegativity\n",
    "\n",
    "Electronegativity is the ability for an atom to attract shared electron pairs into its valence shell. This trend increases from left to right across period, and decreases down family."
   ]
  },
  {
   "cell_type": "markdown",
   "metadata": {},
   "source": [
    "### Electron affinity\n",
    "\n",
    "Electron affinity is measured by the amount of energy released when an electron joins the valence shell of an atom to form a negative ion. While electronegativity is concerned with an atoms ability to attract electrons, we can think of electron affinity as a measure of how readily (or not) an ion will relinquish its electorns. This trend increases across period and decreases down family."
   ]
  },
  {
   "cell_type": "markdown",
   "metadata": {},
   "source": [
    "### Ionization energy\n",
    "\n",
    "This is the amount of energy required to remove a valence electron from an atom. This trend increases across period and decreases down family."
   ]
  },
  {
   "cell_type": "markdown",
   "metadata": {},
   "source": [
    "### Ionic radius\n",
    "\n",
    "This is similar to atomic radius, but instead measures the distance from the center of the nucleus to valence shell in an ion. Like atomic radius, this trend tends to decrease across period and increase down family."
   ]
  },
  {
   "cell_type": "markdown",
   "metadata": {},
   "source": [
    "\n",
    "\n"
   ]
  },
  {
   "cell_type": "markdown",
   "metadata": {},
   "source": [
    "<img src = \"data/trends.jpg\">"
   ]
  },
  {
   "cell_type": "markdown",
   "metadata": {},
   "source": [
    "## An example"
   ]
  },
  {
   "cell_type": "markdown",
   "metadata": {},
   "source": [
    "Here we will use pandas to import some data from the periodic table, write a while loop to ______, and combine a for loop and if-else statement to classify elements."
   ]
  },
  {
   "cell_type": "code",
   "execution_count": 6,
   "metadata": {},
   "outputs": [],
   "source": [
    "# import libraries\n",
    "import numpy as np\n",
    "import pandas as pd\n",
    "import matplotlib.pyplot as plt"
   ]
  },
  {
   "cell_type": "code",
   "execution_count": 36,
   "metadata": {},
   "outputs": [
    {
     "data": {
      "text/html": [
       "<div>\n",
       "<style scoped>\n",
       "    .dataframe tbody tr th:only-of-type {\n",
       "        vertical-align: middle;\n",
       "    }\n",
       "\n",
       "    .dataframe tbody tr th {\n",
       "        vertical-align: top;\n",
       "    }\n",
       "\n",
       "    .dataframe thead th {\n",
       "        text-align: right;\n",
       "    }\n",
       "</style>\n",
       "<table border=\"1\" class=\"dataframe\">\n",
       "  <thead>\n",
       "    <tr style=\"text-align: right;\">\n",
       "      <th></th>\n",
       "      <th>AtomicNumber</th>\n",
       "      <th>Element</th>\n",
       "      <th>Symbol</th>\n",
       "      <th>AtomicMass</th>\n",
       "      <th>NumberofNeutrons</th>\n",
       "      <th>NumberofProtons</th>\n",
       "      <th>NumberofElectrons</th>\n",
       "      <th>Period</th>\n",
       "      <th>Group</th>\n",
       "      <th>Phase</th>\n",
       "      <th>...</th>\n",
       "      <th>FirstIonization</th>\n",
       "      <th>Density</th>\n",
       "      <th>MeltingPoint</th>\n",
       "      <th>BoilingPoint</th>\n",
       "      <th>NumberOfIsotopes</th>\n",
       "      <th>Discoverer</th>\n",
       "      <th>Year</th>\n",
       "      <th>SpecificHeat</th>\n",
       "      <th>NumberofShells</th>\n",
       "      <th>NumberofValence</th>\n",
       "    </tr>\n",
       "  </thead>\n",
       "  <tbody>\n",
       "    <tr>\n",
       "      <th>0</th>\n",
       "      <td>1</td>\n",
       "      <td>Hydrogen</td>\n",
       "      <td>H</td>\n",
       "      <td>1.007</td>\n",
       "      <td>0</td>\n",
       "      <td>1</td>\n",
       "      <td>1</td>\n",
       "      <td>1</td>\n",
       "      <td>1.0</td>\n",
       "      <td>gas</td>\n",
       "      <td>...</td>\n",
       "      <td>13.5984</td>\n",
       "      <td>0.000090</td>\n",
       "      <td>14.175</td>\n",
       "      <td>20.28</td>\n",
       "      <td>3.0</td>\n",
       "      <td>Cavendish</td>\n",
       "      <td>1766.0</td>\n",
       "      <td>14.304</td>\n",
       "      <td>1</td>\n",
       "      <td>1.0</td>\n",
       "    </tr>\n",
       "    <tr>\n",
       "      <th>1</th>\n",
       "      <td>2</td>\n",
       "      <td>Helium</td>\n",
       "      <td>He</td>\n",
       "      <td>4.002</td>\n",
       "      <td>2</td>\n",
       "      <td>2</td>\n",
       "      <td>2</td>\n",
       "      <td>1</td>\n",
       "      <td>18.0</td>\n",
       "      <td>gas</td>\n",
       "      <td>...</td>\n",
       "      <td>24.5874</td>\n",
       "      <td>0.000179</td>\n",
       "      <td>NaN</td>\n",
       "      <td>4.22</td>\n",
       "      <td>5.0</td>\n",
       "      <td>Janssen</td>\n",
       "      <td>1868.0</td>\n",
       "      <td>5.193</td>\n",
       "      <td>1</td>\n",
       "      <td>NaN</td>\n",
       "    </tr>\n",
       "    <tr>\n",
       "      <th>2</th>\n",
       "      <td>3</td>\n",
       "      <td>Lithium</td>\n",
       "      <td>Li</td>\n",
       "      <td>6.941</td>\n",
       "      <td>4</td>\n",
       "      <td>3</td>\n",
       "      <td>3</td>\n",
       "      <td>2</td>\n",
       "      <td>1.0</td>\n",
       "      <td>solid</td>\n",
       "      <td>...</td>\n",
       "      <td>5.3917</td>\n",
       "      <td>0.534000</td>\n",
       "      <td>453.850</td>\n",
       "      <td>1615.00</td>\n",
       "      <td>5.0</td>\n",
       "      <td>Arfvedson</td>\n",
       "      <td>1817.0</td>\n",
       "      <td>3.582</td>\n",
       "      <td>2</td>\n",
       "      <td>1.0</td>\n",
       "    </tr>\n",
       "    <tr>\n",
       "      <th>3</th>\n",
       "      <td>4</td>\n",
       "      <td>Beryllium</td>\n",
       "      <td>Be</td>\n",
       "      <td>9.012</td>\n",
       "      <td>5</td>\n",
       "      <td>4</td>\n",
       "      <td>4</td>\n",
       "      <td>2</td>\n",
       "      <td>2.0</td>\n",
       "      <td>solid</td>\n",
       "      <td>...</td>\n",
       "      <td>9.3227</td>\n",
       "      <td>1.850000</td>\n",
       "      <td>1560.150</td>\n",
       "      <td>2742.00</td>\n",
       "      <td>6.0</td>\n",
       "      <td>Vaulquelin</td>\n",
       "      <td>1798.0</td>\n",
       "      <td>1.825</td>\n",
       "      <td>2</td>\n",
       "      <td>2.0</td>\n",
       "    </tr>\n",
       "    <tr>\n",
       "      <th>4</th>\n",
       "      <td>5</td>\n",
       "      <td>Boron</td>\n",
       "      <td>B</td>\n",
       "      <td>10.811</td>\n",
       "      <td>6</td>\n",
       "      <td>5</td>\n",
       "      <td>5</td>\n",
       "      <td>2</td>\n",
       "      <td>13.0</td>\n",
       "      <td>solid</td>\n",
       "      <td>...</td>\n",
       "      <td>8.2980</td>\n",
       "      <td>2.340000</td>\n",
       "      <td>2573.150</td>\n",
       "      <td>4200.00</td>\n",
       "      <td>6.0</td>\n",
       "      <td>Gay-Lussac</td>\n",
       "      <td>1808.0</td>\n",
       "      <td>1.026</td>\n",
       "      <td>2</td>\n",
       "      <td>3.0</td>\n",
       "    </tr>\n",
       "  </tbody>\n",
       "</table>\n",
       "<p>5 rows × 28 columns</p>\n",
       "</div>"
      ],
      "text/plain": [
       "   AtomicNumber    Element Symbol  AtomicMass  NumberofNeutrons  \\\n",
       "0             1   Hydrogen      H       1.007                 0   \n",
       "1             2     Helium     He       4.002                 2   \n",
       "2             3    Lithium     Li       6.941                 4   \n",
       "3             4  Beryllium     Be       9.012                 5   \n",
       "4             5      Boron      B      10.811                 6   \n",
       "\n",
       "   NumberofProtons  NumberofElectrons  Period  Group  Phase  ...  \\\n",
       "0                1                  1       1    1.0    gas  ...   \n",
       "1                2                  2       1   18.0    gas  ...   \n",
       "2                3                  3       2    1.0  solid  ...   \n",
       "3                4                  4       2    2.0  solid  ...   \n",
       "4                5                  5       2   13.0  solid  ...   \n",
       "\n",
       "  FirstIonization   Density MeltingPoint BoilingPoint NumberOfIsotopes  \\\n",
       "0         13.5984  0.000090       14.175        20.28              3.0   \n",
       "1         24.5874  0.000179          NaN         4.22              5.0   \n",
       "2          5.3917  0.534000      453.850      1615.00              5.0   \n",
       "3          9.3227  1.850000     1560.150      2742.00              6.0   \n",
       "4          8.2980  2.340000     2573.150      4200.00              6.0   \n",
       "\n",
       "   Discoverer    Year  SpecificHeat  NumberofShells  NumberofValence  \n",
       "0   Cavendish  1766.0        14.304               1              1.0  \n",
       "1     Janssen  1868.0         5.193               1              NaN  \n",
       "2   Arfvedson  1817.0         3.582               2              1.0  \n",
       "3  Vaulquelin  1798.0         1.825               2              2.0  \n",
       "4  Gay-Lussac  1808.0         1.026               2              3.0  \n",
       "\n",
       "[5 rows x 28 columns]"
      ]
     },
     "execution_count": 36,
     "metadata": {},
     "output_type": "execute_result"
    }
   ],
   "source": [
    "# read in our csv file\n",
    "periodic_table = pd.read_csv('data/Periodic Table of Elements.csv')\n",
    "\n",
    "# check it out\n",
    "periodic_table.head()"
   ]
  },
  {
   "cell_type": "code",
   "execution_count": 37,
   "metadata": {},
   "outputs": [
    {
     "name": "stdout",
     "output_type": "stream",
     "text": [
      "27\n",
      "1\n"
     ]
    }
   ],
   "source": [
    "# we'll convert it to a numpy array for simplicity\n",
    "periodic_table_array = periodic_table.to_numpy()\n",
    "\n",
    "# we can still use our dataframe to find which columns we want to index in our numpy array\n",
    "print(periodic_table.columns.get_loc('NumberofValence'))\n",
    "print(periodic_table.columns.get_loc('Element'))"
   ]
  },
  {
   "cell_type": "code",
   "execution_count": 42,
   "metadata": {},
   "outputs": [
    {
     "name": "stdout",
     "output_type": "stream",
     "text": [
      "[]\n"
     ]
    }
   ],
   "source": [
    "# let's use a for loop in combination with if-else statements to pull out a class of elements\n",
    "# we know that if an element has a valence number of 1, then it must be an alkali metal. \n",
    "# Hydrogen is an exception to this; we'll make sure to include that in our statements.\n",
    "# from the dataframe above, we can see that the last column, \"NumberofValence,\" is what we're interested in\n",
    "\n",
    "alkali_metals = []\n",
    "\n",
    "for i in range (len(periodic_table)):\n",
    "    if (periodic_table_array[i, 27] == 1.0) and (periodic_table_array[i, 1] != 'Hydrogen'):\n",
    "        np.append(alkali_metals, periodic_table_array[i, :])\n",
    "    \n",
    "print(alkali_metals)"
   ]
  },
  {
   "cell_type": "code",
   "execution_count": null,
   "metadata": {},
   "outputs": [],
   "source": []
  },
  {
   "cell_type": "code",
   "execution_count": null,
   "metadata": {},
   "outputs": [],
   "source": []
  },
  {
   "cell_type": "markdown",
   "metadata": {},
   "source": [
    "## Questions"
   ]
  },
  {
   "cell_type": "markdown",
   "metadata": {},
   "source": [
    "## Solutions"
   ]
  },
  {
   "cell_type": "code",
   "execution_count": null,
   "metadata": {},
   "outputs": [],
   "source": []
  }
 ],
 "metadata": {
  "kernelspec": {
   "display_name": "Python 3",
   "language": "python",
   "name": "python3"
  },
  "language_info": {
   "codemirror_mode": {
    "name": "ipython",
    "version": 3
   },
   "file_extension": ".py",
   "mimetype": "text/x-python",
   "name": "python",
   "nbconvert_exporter": "python",
   "pygments_lexer": "ipython3",
   "version": "3.7.3"
  }
 },
 "nbformat": 4,
 "nbformat_minor": 4
}
