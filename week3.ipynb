{
 "cells": [
  {
   "cell_type": "markdown",
   "metadata": {},
   "source": [
    "# Week 3: Periodic Table of the Elements"
   ]
  },
  {
   "cell_type": "markdown",
   "metadata": {},
   "source": [
    "## Introduction"
   ]
  },
  {
   "cell_type": "markdown",
   "metadata": {},
   "source": [
    "If you cast your mind back to your first chemistry class, you may recall names such as Democritus and Mendeleev. Democritus was one of the first people to hypothesize that all matter is composed on tiny, individual particles (which we now call atoms), and Dmitiri Mendeleev is one of the fathers of our modern periodic table. Both of these men are considered foundational to our current understanding of chemistry, but they were far from alone in their efforts to explain and explore chemical phenomena.\n",
    "\n",
    "A lesser-known figure in the history of the science of chemistry was none other than a geologist, Alexandre-Émile Béguyer de Chancourtois. In the 1860s he published an early version of the periodic table that grouped elements according to their atomic weights. Rather than plotting the elements on a sheet of paper, he graphed them on a cylinder, and this three-dimensional representation allowed him to see clearly what was not obvious in two dimensions: that the elements exhibit physical properties in accordance with their atomic masses, and that there is periodicity (repetition at regular intervals) of these properties as atomic mass increases.  "
   ]
  },
  {
   "cell_type": "markdown",
   "metadata": {},
   "source": [
    "## Learning goals"
   ]
  },
  {
   "cell_type": "markdown",
   "metadata": {},
   "source": [
    "By the end of today's lab, students will be able to do the following:\n",
    "\n",
    "1. Name and define 3 properties of elements\n",
    "2. Label a chart with periodic trends and explain why they take the forms that they do\n",
    "3. Import data from a csv file into a dataframe\n",
    "4. Use while loops to extract data from an array that meet specific criteria"
   ]
  },
  {
   "cell_type": "markdown",
   "metadata": {},
   "source": [
    "## Prerequisites"
   ]
  },
  {
   "cell_type": "markdown",
   "metadata": {},
   "source": [
    "Students enrolled in this lab are expected to already have familiarity with the following:\n",
    "\n",
    "1. Basic atomic properties (atomic mass, atomic number, valence number) and general organization of the periodic table (periods and families)  \n",
    "2. Indexing arrays\n",
    "3. Intermediate matplotlib skills"
   ]
  },
  {
   "cell_type": "markdown",
   "metadata": {},
   "source": [
    "## Background"
   ]
  },
  {
   "cell_type": "markdown",
   "metadata": {},
   "source": [
    "As Béguyer de Chancourtois recognized in the 1860s, periodic trends reflect fundamental properties of the elements, and many of these properties are functions of the atomic weight . Here we will briefly mention the major atomic trends; your job will be to think more deeply about why these trends occur in the patterns that they do. Below is a periodic table of the elements to jog your memory, and at the end of this section you'll find a visual summary of the trends discussed below.\n",
    "\n",
    "<img src=\"data/periodic table1.png\" width = 700>"
   ]
  },
  {
   "cell_type": "markdown",
   "metadata": {},
   "source": [
    "### Atomic radius\n",
    "\n",
    "Atomic radius is the size of an atom, measured from the center of its nucleus to the outer shell of electrons. Atomic radius tends to decrease from left to right across periods, and increase from top to bottom within families."
   ]
  },
  {
   "cell_type": "markdown",
   "metadata": {},
   "source": [
    "### Electronegativity\n",
    "\n",
    "Electronegativity is the ability for an atom to attract shared electron pairs into its valence shell. This trend increases from left to right across period, and decreases down family."
   ]
  },
  {
   "cell_type": "markdown",
   "metadata": {},
   "source": [
    "### Electron affinity\n",
    "\n",
    "Electron affinity is measured by the amount of energy released when an electron joins the valence shell of an atom to form a negative ion. Recall that the ground state of an atom is its lowest energy and most stable configuration. While electronegativity is concerned with an atom's ability to attract electrons, we can think of electron affinity as a measure of how readily (or not) an ion will relinquish its electorns (that is, how readily it will transition from a ground state to a higher-energy state.) This trend increases across period and decreases down family."
   ]
  },
  {
   "cell_type": "markdown",
   "metadata": {},
   "source": [
    "### Ionization energy\n",
    "\n",
    "This is the amount of energy required to remove a valence electron from an atom. This trend increases across period and decreases down family."
   ]
  },
  {
   "cell_type": "markdown",
   "metadata": {},
   "source": [
    "\n",
    "\n"
   ]
  },
  {
   "cell_type": "markdown",
   "metadata": {},
   "source": [
    "<img src = \"data/trends.jpg\">"
   ]
  },
  {
   "cell_type": "markdown",
   "metadata": {},
   "source": [
    "## An example"
   ]
  },
  {
   "cell_type": "markdown",
   "metadata": {},
   "source": [
    "Here we will use pandas to import some data from the periodic table. We'll then convert that dataframe to a numpy array, and complete the rest of this exercise using arrays. \n",
    "\n",
    "This example will demonstrate how to use a for loop in converting data from a dataframe into an array, and will use a while loop combined with if-else statements to classify elements."
   ]
  },
  {
   "cell_type": "code",
   "execution_count": null,
   "metadata": {},
   "outputs": [],
   "source": [
    "# import libraries\n",
    "import numpy as np\n",
    "import pandas as pd\n",
    "import matplotlib.pyplot as plt"
   ]
  },
  {
   "cell_type": "markdown",
   "metadata": {},
   "source": [
    "First, we want to read in our CSV file that has all the information we need on the elements. More commonly we'll read these files in from a local directory, such as Desktop, but in this case we're reading in from a URL. \n",
    "\n",
    "We'll set `header = None`. This will be useful because in the next steps, we're going to convert this dataframe into an array. Setting `header = None` at this stage ensures that our headers will also be included in our array, which is what we want."
   ]
  },
  {
   "cell_type": "code",
   "execution_count": null,
   "metadata": {},
   "outputs": [],
   "source": [
    "# read in our csv file from a URL and set header = None\n",
    "periodic_table = pd.read_csv('https://pubchem.ncbi.nlm.nih.gov/rest/pug/periodictable/CSV', header = None)\n",
    "\n",
    "# check it out\n",
    "periodic_table.head()"
   ]
  },
  {
   "cell_type": "markdown",
   "metadata": {},
   "source": [
    "We can see that our dataframe has some NaN values. These could be problematic later, so we'll just fill them with zeros (note that NaN is not the same as zero, so this is not a safe assumption to make when working with your own data! This is just for ease of demonstration.)"
   ]
  },
  {
   "cell_type": "code",
   "execution_count": null,
   "metadata": {},
   "outputs": [],
   "source": [
    "# fill NaN with 0\n",
    "periodic_table_no_nans = periodic_table.fillna(str(0))"
   ]
  },
  {
   "cell_type": "markdown",
   "metadata": {},
   "source": [
    "Dataframes are great, but can be a little tricky to work with when using conditional statements, such as in `for` and `while` loops. For this exercise, we'll just convert our dataframe into a now-familiar numpy array."
   ]
  },
  {
   "cell_type": "code",
   "execution_count": null,
   "metadata": {},
   "outputs": [],
   "source": [
    "# change dataframe to array\n",
    "periodic_table_array = periodic_table_no_nans.to_numpy()\n",
    "\n",
    "# now if we inspect all of the columns in the first row (Row 0), we can see the name of each column\n",
    "print(periodic_table_array[0, :])"
   ]
  },
  {
   "cell_type": "markdown",
   "metadata": {},
   "source": [
    "The above print statement does return the information we wanted, but it's messy. Next, we'll use a `for` loop to neatly label the index of each column. "
   ]
  },
  {
   "cell_type": "code",
   "execution_count": null,
   "metadata": {},
   "outputs": [],
   "source": [
    "# for loop to clearly label the index of each column\n",
    "\n",
    "for i in range(len(periodic_table_array[0])):\n",
    "    print(i, periodic_table_array[0, i])"
   ]
  },
  {
   "cell_type": "markdown",
   "metadata": {},
   "source": [
    "Great! We can now easily index our array for any of the elemental properties presented here by using the index that appears next to the property."
   ]
  },
  {
   "cell_type": "markdown",
   "metadata": {},
   "source": [
    "Now we'll see how to use a `while` loop with `if-elif-else` statements to pull out chunks of data that meet a certain condition.\n",
    "\n",
    "It's easy to accidentally write a `whil` loop that never stops iterating; we'll safeguard against this by setting a starting point (`i = 1`), a condition during which to continue iterating (while `i <= 18`), and a way to increase the value of `i` with each iteration (`i += 1`)."
   ]
  },
  {
   "cell_type": "code",
   "execution_count": null,
   "metadata": {},
   "outputs": [],
   "source": [
    "# while loop to classify elements\n",
    "\n",
    "i = 1\n",
    "\n",
    "while i <= 118:\n",
    "    if (periodic_table_array[i, 15]) == 'Alkali metal':\n",
    "        print(periodic_table_array[i, 1], \"is an alkali metal\")\n",
    "        \n",
    "    elif (periodic_table_array[i, 15]) == 'Alkaline earth metal':\n",
    "        print(periodic_table_array[i, 1], \"is an alkaline earth metal\")\n",
    "        \n",
    "    else:\n",
    "        print(periodic_table_array[i, 1], \"is something else\")  \n",
    "        \n",
    "    i += 1"
   ]
  },
  {
   "cell_type": "markdown",
   "metadata": {},
   "source": [
    "## Questions"
   ]
  },
  {
   "cell_type": "markdown",
   "metadata": {},
   "source": [
    "Please answer the following questions:\n",
    "\n",
    "1. Practice writing a while loop to print out all of the noble gases. You don't need to print the non-noble gases."
   ]
  },
  {
   "cell_type": "markdown",
   "metadata": {},
   "source": [
    "2. Using Numpy indexing, pull the trends `Electronegativity,` `AtomicRadius,` `IonizationEnergy,` and `ElectronAffnity` from the array. Plot all of these against `AtomicMass` and discuss your plots. We are only interested in the trends of these plots, not specific values. For readability purposes, I recommend creating four vertically stacked subplots and turning the axis labels off. Stacking vertically is sensible because all plots will share a common x-axis (`AtomicMass`), but each will have a different y-axis."
   ]
  },
  {
   "cell_type": "markdown",
   "metadata": {},
   "source": [
    "3. Choose two of your plots and explain why the trends shown therein occur in the observed patterns."
   ]
  },
  {
   "cell_type": "markdown",
   "metadata": {},
   "source": [
    "## Solutions"
   ]
  },
  {
   "cell_type": "markdown",
   "metadata": {},
   "source": [
    "##### Question 1"
   ]
  },
  {
   "cell_type": "code",
   "execution_count": null,
   "metadata": {},
   "outputs": [],
   "source": [
    "i = 1\n",
    "\n",
    "while i <= 118:\n",
    "    if (periodic_table_array[i, 15]) == 'Noble gas':\n",
    "        print(periodic_table_array[i, 1], \"is a noble gas\")\n",
    "        \n",
    "    else:\n",
    "        pass \n",
    "        \n",
    "    i += 1"
   ]
  },
  {
   "cell_type": "markdown",
   "metadata": {},
   "source": [
    "##### Question 2"
   ]
  },
  {
   "cell_type": "code",
   "execution_count": null,
   "metadata": {},
   "outputs": [],
   "source": [
    "# solution to question 2\n",
    "\n",
    "atomic_mass = periodic_table_array[1:, 3]\n",
    "electronegativity = periodic_table_array[1:, 6]\n",
    "atomic_radius = periodic_table_array[1:, 7]\n",
    "ionization_energy = periodic_table_array[1:, 8]\n",
    "electron_affinity = periodic_table_array[1:, 9]\n",
    "\n",
    "fig, axs = plt.subplots(4, sharex = True, figsize = (12, 9))\n",
    "fig.text(0.5, 0.04, 'Atomic mass', ha='center', fontsize = 14)\n",
    "fig.suptitle('Periodic Trends with Atomic Mass', fontsize = 22)\n",
    "\n",
    "axs[0].plot(atomic_mass, electronegativity)\n",
    "axs[0].set_ylabel('electronegativity', fontsize = 12)\n",
    "axs[0].axes.xaxis.set_ticks([])\n",
    "axs[0].axes.yaxis.set_ticks([])\n",
    "\n",
    "axs[1].plot(atomic_mass, atomic_radius)\n",
    "axs[1].set_ylabel('atomic radius', fontsize = 12)\n",
    "axs[1].axes.xaxis.set_ticks([])\n",
    "axs[1].axes.yaxis.set_ticks([])\n",
    "\n",
    "axs[2].plot(atomic_mass, ionization_energy)\n",
    "axs[2].set_ylabel('ionization energy', fontsize = 12)\n",
    "axs[2].axes.xaxis.set_ticks([])\n",
    "axs[2].axes.yaxis.set_ticks([])\n",
    "\n",
    "axs[3].plot(atomic_mass, electron_affinity)\n",
    "axs[3].set_ylabel('electron affinity', fontsize = 12)\n",
    "axs[3].axes.xaxis.set_ticks([])\n",
    "axs[3].axes.yaxis.set_ticks([])"
   ]
  },
  {
   "cell_type": "markdown",
   "metadata": {},
   "source": [
    "##### Question 3"
   ]
  },
  {
   "cell_type": "markdown",
   "metadata": {},
   "source": [
    ">The first (top) plot shows that electronegativity overall increases with atomic mass. We can assume that the lowest points in this chart are due to changing our \"NaN\" values to zeros, and can therefore ignore those as artifical lows. However, there are also places were electronegativity dips to a non-zero value as atomic mass increases. \n",
    "\n",
    ">Recall that electronegativity refers to an atom's ability to attract shared pairs of electrons to its outermost shell. As atomic mass increases, the number of protons within an atom's nucleus increases. More protons means that the atom is exerting a strong attractive force on nearby electrons, so as we travel across a period of the table, electronegativity increases. However, we expect a sudden decrease in electronegativty at the start of each new period. This is because the beginning of a new period signifies that we are filling a new electron shell, and each subsequent electron shell is further from the nucleus than the previous one. Due to the suddenly increased distance from the nucleus, elements on the far lefthand side of the table are slightly less able to attract electrons than than those elements which immediately preceed them, despite having more protons. \n",
    "\n",
    ">Similar to electronegativity, atomic radius increases with atomic mass, but also experiences dips in this trend. The reasoning for this is very similar to the reasoning for the electronegativity trend. As we read across the periodic table, elements are increasing in mass due mainly to an incrasing number of protons and neutrons in the nucleus, but they are increasing in radius due to the filling of electron shells. Across a single period, atomic radius decreases because there are a larger number of protons available to attract a constant number of eletron shells. At the beginning of a new period, radius suddenly increases at electrons begin filling a new, more distant shell. "
   ]
  },
  {
   "cell_type": "code",
   "execution_count": null,
   "metadata": {},
   "outputs": [],
   "source": []
  }
 ],
 "metadata": {
  "kernelspec": {
   "display_name": "Python 3",
   "language": "python",
   "name": "python3"
  },
  "language_info": {
   "codemirror_mode": {
    "name": "ipython",
    "version": 3
   },
   "file_extension": ".py",
   "mimetype": "text/x-python",
   "name": "python",
   "nbconvert_exporter": "python",
   "pygments_lexer": "ipython3",
   "version": "3.7.3"
  }
 },
 "nbformat": 4,
 "nbformat_minor": 4
}
