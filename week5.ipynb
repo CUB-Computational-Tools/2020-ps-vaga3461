{
 "cells": [
  {
   "cell_type": "markdown",
   "metadata": {},
   "source": [
    "<div style=\"background: #efffed;\n",
    "            border: 1px solid grey;\n",
    "            margin: 8px 0 8px 0;\n",
    "            text-align: center;\n",
    "            padding: 8px; \">\n",
    "    <i class=\"fa-play fa\" \n",
    "       style=\"font-size: 40px;\n",
    "              line-height: 40px;\n",
    "              margin: 8px;\n",
    "              color: #444;\">\n",
    "    </i>\n",
    "    <center>\n",
    "    Click into a code cell (the gray blocks below) to select or edit it.<br/>\n",
    "    To run a selected code cell, hit <pre style=\"background: #efffed\">Shift + Enter</pre>\n",
    "    Make sure that each code cell runs successfully before you move on to the next one.\n",
    "    </center>\n",
    "</div>"
   ]
  },
  {
   "cell_type": "markdown",
   "metadata": {},
   "source": [
    "# Week 5: Revisiting Work and Energy"
   ]
  },
  {
   "cell_type": "markdown",
   "metadata": {},
   "source": [
    "## Introduction"
   ]
  },
  {
   "cell_type": "markdown",
   "metadata": {},
   "source": [
    "\"Work\" and \"energy\" are terms that you may use interchangely in everyday life: the question, \"How much work did you do?\" has nearly the same meaning in conversation as, \"How much energy did you put in?\" In physics, however, $\\textbf{work}$ and $\\textbf{energy}$ have very specific definitions. They are related, but not interchangeable. This problem set will help students to understand the relatioship between these two physical concepts."
   ]
  },
  {
   "cell_type": "markdown",
   "metadata": {},
   "source": [
    "## Learning goals"
   ]
  },
  {
   "cell_type": "markdown",
   "metadata": {},
   "source": [
    "After completing this problem set, students will be able to:\n",
    "\n",
    "1. Differentiate between potential and kinetic energy\n",
    "2. Show that potential energy, kinetic energy, and work all have equivalent units\n",
    "3. Work basic problems calculating changes in energy and work done\n",
    "4. Discuss sign conventions in work-energy calculations"
   ]
  },
  {
   "cell_type": "markdown",
   "metadata": {},
   "source": [
    "## Background"
   ]
  },
  {
   "cell_type": "markdown",
   "metadata": {},
   "source": [
    "$\\textbf{Energy}$ is a $\\textit{capacity}$ for doing work. Energy can be stored in many forms, but in this assignment we will focus on only two types: kinetic and gravitational potential energy (hereafter simply \"potential energy.\")"
   ]
  },
  {
   "cell_type": "markdown",
   "metadata": {},
   "source": [
    "### Kinetic energy"
   ]
  },
  {
   "cell_type": "markdown",
   "metadata": {},
   "source": [
    "Kinetic energy is the energy that an object possesses due to motion. Kinetic energy is given by the equation\n",
    "\n",
    "$$KE = \\frac{1}{2}Mv^2$$\n",
    "\n",
    "where $\\textit{M}$ is a mass with units $kg$, and $\\textit{v}$ is a velocity with units $m/s$. By simplifying the units in this equation, we can see that kinetic energy has units $kg\\cdot m^2/s^2$. We can also easily see that when an object is not moving ($v = 0$), its kinetic energy is zero."
   ]
  },
  {
   "cell_type": "markdown",
   "metadata": {},
   "source": [
    "### Work"
   ]
  },
  {
   "cell_type": "markdown",
   "metadata": {},
   "source": [
    "Work is a force acting over a distance. Specifically, it is calculated from the displacement that an object experiences when it is acted upon by a force. In this lesson we will only condsider forces acting in the vertical plane. If you need a refresher on what a force is, see $\\textbf{\"Notes\"}$ at the bottom of this section.\n",
    "\n",
    "Work is most generally written as\n",
    "\n",
    "$$W = Fd$$\n",
    "\n",
    "where $F$ is a force in Newtons ($kg\\cdot m/s^2$) and $d$ is the displacement in $m$, or the distance over which the force acts. We can see from this equation that work is zero if the displacement of an object is zero, whether or not a force has been exerted on that object. This means that for all the energy you would exert trying to push down a wall in your house, you aren't doing any work!\n",
    "\n",
    "The relationship between work and kinetic energy is called the $\\textbf{work-energy theorem}$, and is written as follows\n",
    "\n",
    "$$W = \\Delta KE$$\n",
    "\n",
    "This states that work is equal to a change in kinetic energy. Looking back at the kinetic energy equation, we can see that it only contains two terms, mass and velocity, and we will assume that mass remains constant in our problems. Therefore, the change in kinetic energy, or work done, is driven by a change in velocity. Again, if no displacement has occurred, then no change in velocity has occurred, and work done is zero."
   ]
  },
  {
   "cell_type": "markdown",
   "metadata": {},
   "source": [
    "### Potential energy"
   ]
  },
  {
   "cell_type": "markdown",
   "metadata": {},
   "source": [
    "Potential energy is the energy held by an object due to its position relative to other objects. An object has greater potential energy when it is elevated relative to some baselevel to which it wants to fall; on earth, objects fall to the ground because of their attraction to the center of Earth's gravity. An object falling to the ground is an example of displacement due to the gravitational force, so by our previous definitions we can understand that this means that when an object is falling, work is being done on it.\n",
    "\n",
    "Potential energy in the vertical plane is given by\n",
    "\n",
    "$$PE = Mg\\Delta (h_f - h_0)$$\n",
    "\n",
    "where $M$ is a mass in $kg$, $g$ is the gravitational acceleration in $m/s^2$, $h_f$ is the final height of an object in $m$ (above Earth's surface, unless specified otherwise), and $h_0$ is the initial height of an object in m before any work is done on it. Note that the convention for gravity is positive downwards.\n",
    "\n",
    "The relationship between work and potential energy is written as follows:\n",
    "\n",
    "$\\Delta PE = -W$\n",
    "\n",
    "Notice that work is negative here. Keep this in mind as you progress through the assignment."
   ]
  },
  {
   "cell_type": "markdown",
   "metadata": {},
   "source": [
    "## Notes"
   ]
  },
  {
   "cell_type": "markdown",
   "metadata": {},
   "source": [
    "### What exactly is a force?"
   ]
  },
  {
   "cell_type": "markdown",
   "metadata": {},
   "source": [
    "A force is an interaction between two bodies that causes a change in motion within those bodies. Newton's second law of motion is our most famous definition of force\n",
    "\n",
    "$$F = Ma$$\n",
    "\n",
    "where $M$ is mass in kg and $a$ is acceleration in $m/s^2$."
   ]
  },
  {
   "cell_type": "markdown",
   "metadata": {},
   "source": [
    "### A note on reference frames"
   ]
  },
  {
   "cell_type": "markdown",
   "metadata": {},
   "source": [
    "A reference frame defines the physical space that we wish to consider within a given problem. Imagine a ball sitting at the top of a 10 foot tall flight of stairs. If we want to use the stairwell as our reference frame, then the initial height of the ball would be 10 feet, and it could fall down the stairs to land at a final height of 0 feet. But what if those stairs start on the sixth floor of a building (that is, at 60 feet above the ground) and climb to the seventh floor (70 feet above the ground)? By casting the problem this way, we've changed our reference frame to be that of the earth, where the ground below our feet is taken to be 0. You can see how choosing a frame of reference is important in calculations of potential energy; our convention in this assignment will be to treat the ground as 0 for all problems."
   ]
  },
  {
   "cell_type": "markdown",
   "metadata": {},
   "source": [
    "## An example"
   ]
  },
  {
   "cell_type": "markdown",
   "metadata": {},
   "source": [
    "Let's imagine an apple falling to the ground from a height of 10 feet. Its mass is 100 g. We will calculate how much work was done on the apple, and in the 'Questions' section below you will find the change in velocity that it experienced during its fall. We will assume the apple was stationary immediately before falling."
   ]
  },
  {
   "cell_type": "code",
   "execution_count": 1,
   "metadata": {},
   "outputs": [],
   "source": [
    "# since we'll be doing some basic math, we'll import Python's basic numerical library, 'numpy'\n",
    "# when we import, we conventionally shorten the name to 'np'\n",
    "# this way we can all the functions of the library without having to type its full name\n",
    "\n",
    "# an example of how to use this library is as follows:\n",
    "# x = np.sum(6 + 6)\n",
    "# print(x) gives an output '12'\n",
    "\n",
    "# HINT: later on in the assignment you will need to take a square root\n",
    "# to do so, you can type 'np.sqrt()' \n",
    "# and simply put the values that you want to take the root of inside the parentheses\n",
    "\n",
    "# import numpy as np"
   ]
  },
  {
   "cell_type": "code",
   "execution_count": 2,
   "metadata": {},
   "outputs": [],
   "source": [
    "# before we do any math, we should convert units! Convert all to base SI units\n",
    "\n",
    "height_initial <- 10 / 3.3 # 3.3 feet in 1 meter\n",
    "mass <- 100 /1000 # 1000 grams to a kilogram"
   ]
  },
  {
   "cell_type": "code",
   "execution_count": 14,
   "metadata": {},
   "outputs": [],
   "source": [
    "# now we can create a list of constants\n",
    "\n",
    "constants <- list('mass_of_apple' = mass, \n",
    "                  'gravitational_acceleration' = 9.81, \n",
    "                  'initial_height' = height_initial, \n",
    "                  'final_height' = 0)"
   ]
  },
  {
   "cell_type": "code",
   "execution_count": 13,
   "metadata": {},
   "outputs": [
    {
     "name": "stdout",
     "output_type": "stream",
     "text": [
      "potential energy:  -2.972727 kg m^2 / s^2NULL\n"
     ]
    }
   ],
   "source": [
    "# calculate potential energy\n",
    "\n",
    "potential_energy = constants[[1]] * constants[[2]] * (constants[[4]] - constants[[3]])\n",
    "print(cat('potential energy: ', potential_energy, 'kg m^2 / s^2'))"
   ]
  },
  {
   "cell_type": "code",
   "execution_count": 15,
   "metadata": {},
   "outputs": [
    {
     "name": "stdout",
     "output_type": "stream",
     "text": [
      "work done:  2.972727 kg m^2 / s^2NULL\n"
     ]
    }
   ],
   "source": [
    "# calculate work done, slightly rearranging the equation by moving the minus sign to solve for work\n",
    "\n",
    "work_done <- -potential_energy\n",
    "print(cat('work done: ', work_done, 'kg m^2 / s^2'))"
   ]
  },
  {
   "cell_type": "code",
   "execution_count": null,
   "metadata": {},
   "outputs": [],
   "source": []
  }
 ],
 "metadata": {
  "kernelspec": {
   "display_name": "R",
   "language": "R",
   "name": "ir"
  },
  "language_info": {
   "codemirror_mode": "r",
   "file_extension": ".r",
   "mimetype": "text/x-r-source",
   "name": "R",
   "pygments_lexer": "r",
   "version": "4.0.2"
  }
 },
 "nbformat": 4,
 "nbformat_minor": 4
}
