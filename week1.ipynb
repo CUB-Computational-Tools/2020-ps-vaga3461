{
 "cells": [
  {
   "cell_type": "markdown",
   "metadata": {},
   "source": [
    "# Week 1 Problem Set: Work and Energy"
   ]
  },
  {
   "cell_type": "markdown",
   "metadata": {},
   "source": [
    "## Introduction\n",
    "\n",
    "\"Work\" and \"energy\" are terms that you may use interchangely in everyday life: the question, \"How much work did you do?\" has nearly the same meaning in conversation as, \"How much energy did you put in?\" In physics, however, $\\textbf{work}$ and $\\textbf{energy}$ have very specific definitions. They are related, but not interchangeable. This problem set will help students to understand the relatioship between these two physical concepts.\n",
    "\n",
    "## Learning goals\n",
    "\n",
    "After completing this problem set, students will be able to:\n",
    "1. Differentiate between potential and kinetic energy\n",
    "2. Show that potential energy, kinetic energy, and work all have equivalent units\n",
    "3. Work basic problems calculating changes in energy and work done\n",
    "4. Discuss sign conventions in work-energy calculations\n",
    "\n",
    "## Background\n",
    "\n",
    "$\\textbf{Energy}$ is a $\\textit{capacity}$ for doing work. Energy can be stored in many forms, but in this assignment we will focus on only two types: kinetic and gravitational potential energy (hereafter simply \"potential energy.\")\n",
    "\n",
    "### Kinetic energy\n",
    "\n",
    "Kinetic energy is the energy that an object possesses due to motion. Kinetic energy is given by the equation\n",
    "\n",
    "$KE = \\frac{1}{2}Mv^2$\n",
    "\n",
    "where $\\textit{M}$ is a mass with units kg, and $\\textit{v}$ is a velocity with units m/s. By simplifying the units in this equation, we can see that kinetic energy has units $kg\\cdot m^2/s^2$. We can also easily see that when an object is not moving ($v = 0$), its kinetic energy is zero.\n",
    "\n",
    "### Work\n",
    "\n",
    "Work is a force acting over a distance. Specifically, it is calculated from the displacement that an object experiences when it is acted upon by a force. In this lesson we will only condsider forces acting in the vertical plane. If you need a refresher on what a force is, see $\\textbf{\"Notes\"}$ at the bottom of this section.\n",
    "\n",
    "Work is most generally written as\n",
    "\n",
    "$W = Fd$\n",
    "\n",
    "where $F$ is a force and $d$ is the displacement, or the distance over which the force acts. We can see from this equation that work is zero if the displacement of an object is zero, whether or not a force has been exerted on that object. This means that for all the energy you would exert trying to push down a wall in your house, you aren't doing any work! \n",
    "\n",
    "The relationship between work and kinetic energy is called the $\\textbf{work-energy theorem}$, and is written as follows\n",
    "\n",
    "$W = \\Delta KE$\n",
    "\n",
    "This states that work is equal to a change in kinetic energy. Looking back at the kinetic energy equation, we can see that it only contains two terms, mass and velocity, and we will assume that mass remains constant in our problems. Therefore, the change in kinetic energy, or work done, is driven by a change in velocity. Again, if no displacement has occurred, then no change in velocity has occurred, and work done is zero. \n",
    "\n",
    "### Potential energy\n",
    "\n",
    "Potential energy is the energy held by an object due to its position relative to other objects. An object has greater potential energy when it is elevated relative to some baselevel to which it wants to fall; on earth, objects fall to the ground because of their attraction to the center of Earth's gravity. An object falling to the ground is an example of displacement due to the gravitational force, so by our previous definitions we can understand that this means that when an object is falling, work is being done on it.\n",
    "\n",
    "Potential energy in the vertical plane is given by\n",
    "\n",
    "$PE = Mg\\Delta (h_f - h_0)$\n",
    "\n",
    "where $M$ is a mass in kg, $g$ is the gravitational acceleration in $m/s^2$, $h_f$ is the final height of an object in m (above Earth's surface, unless specified otherwise), and $h_0$ is the initial height of an object in m before any work is done on it. Note that the convention for gravity is positive downwards.\n",
    "\n",
    "The relationship between work and potential energy is written as follows:\n",
    "\n",
    "$\\Delta PE = -W$\n",
    "\n",
    "Notice that work is negative here. Keep this in mind as you progress through the assignment.\n",
    "\n",
    "## Notes\n",
    "\n",
    "### What exactly is a force?\n",
    "\n",
    "A force is an interaction between two bodies that causes a change in motion within those bodies. Newton's second law of motion is our most famous definition of force\n",
    "\n",
    "$F = Ma$\n",
    "\n",
    "where $M$ is mass in kg and $a$ is acceleration in $m/s^2$. \n",
    "\n",
    "### A note on reference frames\n",
    "\n",
    "A reference frame defines the physical space that we wish to consider within a given problem. Imagine a ball sitting at the top of a 10 foot tall flight of stairs. If we want to use the stairwell as our reference frame, then the initial height of the ball would be 10 feet, and it could fall down the stairs to land at a final height of 0 feet. But what if those stairs start on the sixth floor of a building (that is, at 60 feet above the ground) and climb to the seventh floor (70 feet above the ground)? By casting the problem this way, we've changed our reference frame to be that of the earth, where the ground below our feet is taken to be 0. You can see how choosing a frame of reference is important in calculations of potential energy; our convention in this assignment will be to treat the ground as 0 for all problems. "
   ]
  },
  {
   "cell_type": "markdown",
   "metadata": {},
   "source": [
    "## An example\n",
    "\n",
    "Let's imagine an apple falling to the ground from a height of 10 feet. Its mass is 100 g. We will calculate how much work was done on the apple, and in the 'Questions' section below you will find the change in velocity that it experienced during its fall. We will assume the apple was stationary immediately before falling."
   ]
  },
  {
   "cell_type": "code",
   "execution_count": null,
   "metadata": {},
   "outputs": [],
   "source": [
    "# since we'll be doing some basic math, we'll import Python's basic numerical library, 'numpy'\n",
    "# when we import, we conventionally shorten the name to 'np'\n",
    "# this way we can all the functions of the library without having to type its full name\n",
    "\n",
    "# an example of how to use this library is as follows:\n",
    "# x = np.sum(6 + 6)\n",
    "# print(x) gives an output '12'\n",
    "\n",
    "# HINT: later on in the assignment you will need to take a square root\n",
    "# to do so, you can type 'np.sqrt()' \n",
    "# and simply put the values that you want to take the root of inside the parentheses\n",
    "\n",
    "import numpy as np"
   ]
  },
  {
   "cell_type": "code",
   "execution_count": null,
   "metadata": {},
   "outputs": [],
   "source": [
    "# before we do any math, we should convert units! Convert all to base SI units\n",
    "\n",
    "height_initial = 10 / 3.3 # 3.3 feet in 1 meter\n",
    "mass = 100 /1000 # 1000 grams to a kilogram"
   ]
  },
  {
   "cell_type": "code",
   "execution_count": null,
   "metadata": {},
   "outputs": [],
   "source": [
    "# create dictionary of constants\n",
    "\n",
    "constants = {'mass_of_apple' : mass,\n",
    "             'gravitational_acceleration' : 9.81,\n",
    "             'initial_height' : height_initial,\n",
    "             'final_height' : 0}"
   ]
  },
  {
   "cell_type": "code",
   "execution_count": null,
   "metadata": {},
   "outputs": [],
   "source": [
    "# calculate potential energy\n",
    "\n",
    "potential_energy = constants['mass_of_apple'] * constants['gravitational_acceleration'] * (constants['final_height'] - constants['initial_height'])\n",
    "print('potential energy: ', potential_energy, 'kg m^2 / s^2')"
   ]
  },
  {
   "cell_type": "code",
   "execution_count": null,
   "metadata": {},
   "outputs": [],
   "source": [
    "# calculate work done, slightly rearranging the equation by moving the minus sign to solve for work\n",
    "\n",
    "work_done = -potential_energy\n",
    "print('work done: ', work_done, 'kg m^2 / s^2')"
   ]
  },
  {
   "cell_type": "markdown",
   "metadata": {},
   "source": [
    "## Questions\n",
    "\n",
    "1. Please describe the types of energy held in the following scenarios. Do you see anything problematic in any of them, given only the information we've learned today?\n",
    "    - A box sitting stationary on a table (where the ground is the baselevel below which the box cannot fall)\n",
    "    - A box sitting stationary on the ground (where the ground is the baselevel below which the box cannot fall)\n",
    "    - An apple falling from a tree\n",
    "    - A ball rolling frictionlessly and with uniform velocity across the ground\n",
    "\n",
    "\n",
    "2. In the background section, we explicitly stated units for the kinetic energy equation. Please show that potential energy and work have equivalent units by writing out the base SI units for these quantities, as well. \n",
    "\n",
    "3. Continuing from the example problem, please calculate the change in velocity that the apple experienced during its fall. Refer to the code above for an example of how to access values stored in the dictionary versus those stored as variables. Recall that `velocity_initial` is 0 because the object was at rest immediately before it began to fall. You will need to rearrange the work-energy theorem and expand the velocity term in the kinetic energy equation in order to solve for `velocity_final,`which will be the velocity of the apple as it hits the ground. \n",
    "\n",
    "4. What is the significance of the minus sign in the equation $PE = -W$? Hint: look at the final calculation of `work_done` in the example problem. "
   ]
  },
  {
   "cell_type": "markdown",
   "metadata": {},
   "source": [
    "## Solutions to questions"
   ]
  },
  {
   "cell_type": "markdown",
   "metadata": {},
   "source": [
    "1. In these scenarios, the objects possess the following types of energy:\n",
    "    - potential energy, but not kinetic\n",
    "    - neither kinetic nor potential energy\n",
    "    - both kinetic and potential energy\n",
    "    - tricky! The ball possesses kinetic energy, but no work is being done since there is no change in kinetic energy (no change in mass or velocity.) The ball has no potential energy since it's already on the ground (taken to be 0 in our reference frame), and there is no change in potential energy, either, because it doesn't experience a change in elevation."
   ]
  },
  {
   "cell_type": "markdown",
   "metadata": {},
   "source": [
    "2. We simply need to write out the units for each term in the potential energy and work equations:\n",
    "\n",
    "    Potential energy: \n",
    "\n",
    "    $PE = Mg(h_f - h_0)$\n",
    "\n",
    "    $PE = kg\\cdot m/s^2\\cdot (m - m) = kg\\cdot m/s^2\\cdot m = kg\\cdot m^2/s^2$\n",
    "    \n",
    "\n",
    "    Work:\n",
    "\n",
    "    $W = Fd = Mad$ \n",
    "\n",
    "    $W = kg\\cdot m/s^2 \\cdot m = kg\\cdot m^2/s^2$"
   ]
  },
  {
   "cell_type": "markdown",
   "metadata": {},
   "source": [
    "3. Calculating the final velocity of the falling apple"
   ]
  },
  {
   "cell_type": "code",
   "execution_count": null,
   "metadata": {},
   "outputs": [],
   "source": [
    "# the work-energy theorem in its general form is W = delta(KE)\n",
    "# we have already defined work_done and mass_of_apple\n",
    "\n",
    "# this is given\n",
    "velocity_initial = 0\n",
    "\n",
    "# expand the equation\n",
    "# work_done = 0.5*constants['mass_of_apple']*(velocity_final - velocity_initial)**2\n",
    "\n",
    "# simplify, rearrange, and solve for velocity_final\n",
    "velocity_final = np.sqrt(work_done/(0.5 * constants['mass_of_apple'])) + velocity_initial\n",
    "print('final velocity: ', velocity_final, 'm/s')"
   ]
  },
  {
   "cell_type": "markdown",
   "metadata": {},
   "source": [
    "4. This is a sign convention used because an object that has fallen has $\\textit{lost}$ potential energy, so $\\Delta PE$ is negative. Adding the minus sign in front of $W$ ensures that in such a case, the minus signs cancel, and the work done is still postive."
   ]
  }
 ],
 "metadata": {
  "kernelspec": {
   "display_name": "Python 3",
   "language": "python",
   "name": "python3"
  },
  "language_info": {
   "codemirror_mode": {
    "name": "ipython",
    "version": 3
   },
   "file_extension": ".py",
   "mimetype": "text/x-python",
   "name": "python",
   "nbconvert_exporter": "python",
   "pygments_lexer": "ipython3",
   "version": "3.7.7"
  }
 },
 "nbformat": 4,
 "nbformat_minor": 4
}
