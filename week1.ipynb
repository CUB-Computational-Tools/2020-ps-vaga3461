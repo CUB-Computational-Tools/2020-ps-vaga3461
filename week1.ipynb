{
 "cells": [
  {
   "cell_type": "markdown",
   "metadata": {},
   "source": [
    "# Week 1 Problem Set: Work and Energy"
   ]
  },
  {
   "cell_type": "markdown",
   "metadata": {},
   "source": [
    "## Introduction\n",
    "\n",
    "\"Work\" and \"energy\" are terms that you may use interchangely in everyday life: the question, \"How much work did you do?\" has nearly the same meaning in conversation as, \"How much energy did you put in?\" In physics, however, $\\textbf{work}$ and $\\textbf{energy}$ have very specific definitions. They are related, but not interchangeable. This problem set will help students to understand the relatioship between these two physical concepts.\n",
    "\n",
    "## Learning goals\n",
    "\n",
    "After completing this problem set, students will be able to:\n",
    "1. Differentiate between potential and kinetic energy\n",
    "2. Show that potential energy, kinetic energy, and work all have equivalent units\n",
    "3. Work basic problems calculating changes in energy and work done\n",
    "4. Discuss sign conventions in work-energy calculations\n",
    "\n",
    "## Background\n",
    "\n",
    "$\\textbf{Energy}$ is a $\\textit{capacity}$ for doing work. Energy can be stored in many forms, but in this assignment we will focus on only two types: kinetic and gravitational potential energy (hereafter simply \"potential energy.\")\n",
    "\n",
    "### Kinetic energy\n",
    "\n",
    "Kinetic energy is the energy that an object possesses due to motion. Kinetic energy is given by the equation\n",
    "\n",
    "$KE = \\frac{1}{2}mv^2$\n",
    "\n",
    "where $\\textit{m}$ is a mass with units kg, and $\\textit{v}$ is a velocity with units m/s. By simplifying the units in this equation, we can see that kinetic energy has units $kg\\cdot m/s^2$. We can also easily see that when an object is not moving ($v = 0$), its kinetic energy is zero.\n",
    "\n",
    "### Work\n",
    "\n",
    "Work is a force acting over a distance. Specifically, it is calculated from the displacement of an object parallel to the force acting on it. In this lesson we will only condsider forces acting in the vertical plane. Work is most generally written as\n",
    "\n",
    "$W = F*d$\n",
    "\n",
    "where $F$ is a force and $d$ is the displacement, or the distance over which the force acts. We can see from this equation that work is zero if the displacement of an object is zero, $\\textit{whether or not a force has been exerted on that object}$. This means that for all the energy you would exert trying to push down a wall in your house, you aren't doing any work! \n",
    "\n",
    "The relationship between work and kinetic energy is called the $\\textbf{work-energy theorem}$, and is written as follows\n",
    "\n",
    "$W = \\Delta KE$\n",
    "\n",
    "This states that work is equal to a change in kinetic energy. Looking back at the kinetic energy equation, we can see that it only contains two terms, mass and velocity, and we will assume that mass remains constant in our problems. Therefore, the change in kinetic energy, or work done, is driven by a change in velocity. Again, if no displacement has occurred, then no change in velcoity has occurred, and work done is zero. \n",
    "\n",
    "### Potential energy\n",
    "\n",
    "Potential energy is the energy held by an object due to its position relative to other objects. An object has greater potential energy when it is elevated relative to some baselevel to which it wants to fall; on earth, objects fall to the ground because of their attraction to the center of Earth's gravity. An object falling to the ground is an example of displacement due to the gravitational force, so by our previous definitions we can understand that this means that when an object is falling, work is being done on it.\n",
    "\n",
    "Potential energy in the vertical plane is given by\n",
    "\n",
    "$PE = mg\\Delta (h_f - h_0)$\n",
    "\n",
    "where $m$ is a mass in kg, $g$ is the gravitational acceleration in m/s, $h_f$ is the final height of an object in m (above Earth's surface, unless specified otherwise), and $h_0$ is the initial height of an object in m before any work is done on it. Note that the convention for gravity is positive downwards.\n",
    "\n",
    "The relationship between work and potential energy is written as follows:\n",
    "\n",
    "$\\Delta PE = -W$\n",
    "\n",
    "Why is work negative here? This is a sign convention used because an object that has fallen has $\\textit{lost}$ potential energy, so $\\Delta PE$ is negative. Adding the minus sign in front of $W$ ensures that in such a case, the minus signs cancel, and the work done is still postive."
   ]
  },
  {
   "cell_type": "markdown",
   "metadata": {},
   "source": [
    "## An example\n",
    "\n",
    "Let's imagine an apple falling to the ground from a height of 10 feet. Its mass is 100 g. We will calculate how much work was done on the apple, and in the question below you will find the change in velocity that it experienced during its fall. We will assume the apple was staionary immediately before falling."
   ]
  },
  {
   "cell_type": "code",
   "execution_count": 1,
   "metadata": {},
   "outputs": [],
   "source": [
    "# first thing's first, convert units! Convert all to SI units\n",
    "\n",
    "height_initial = 10 / 3.3 # 3.3 feet in 1 meter\n",
    "mass = 100 /1000 # 1000 grams to a kilogram"
   ]
  },
  {
   "cell_type": "code",
   "execution_count": 7,
   "metadata": {},
   "outputs": [],
   "source": [
    "# create dictionary of constants\n",
    "\n",
    "constants = {'mass_of_apple' : mass,\n",
    "             'gravitational_acceleration' : 9.81,\n",
    "             'initial_height' : height_initial,\n",
    "             'final_height' : 0}"
   ]
  },
  {
   "cell_type": "code",
   "execution_count": 16,
   "metadata": {},
   "outputs": [
    {
     "name": "stdout",
     "output_type": "stream",
     "text": [
      "potential energy:  -2.972727272727273 kg m^2 / s^2\n"
     ]
    }
   ],
   "source": [
    "# calculate potential energy\n",
    "\n",
    "potential_energy = constants['mass_of_apple'] * constants['gravitational_acceleration'] * (constants['final_height'] - constants['initial_height'])\n",
    "print('potential energy: ', potential_energy, 'kg m^2 / s^2')"
   ]
  },
  {
   "cell_type": "code",
   "execution_count": 19,
   "metadata": {},
   "outputs": [
    {
     "name": "stdout",
     "output_type": "stream",
     "text": [
      "work done:  2.972727272727273 kg m^2 / s^2\n"
     ]
    }
   ],
   "source": [
    "# calculate work done, slightly rearranging the equation by moving the minus sign to solve for work\n",
    "\n",
    "work_done = -potential_energy\n",
    "print('work done: ', work_done, 'kg m^2 / s^2')"
   ]
  },
  {
   "cell_type": "markdown",
   "metadata": {},
   "source": [
    "## Questions\n",
    "\n",
    "1. Please describe the types of energy held in the following scenarios. Do you see anything problematic in any of them, given only the information we've learned today?\n",
    "- A box sitting stationary on a table\n",
    "- A box sitting stationary on the ground (where the ground is the baselevel below which the box cannot fall)\n",
    "- An apple falling from a tree\n",
    "- A ball rolling across a smooth, flat surface\n",
    "\n",
    "2. In the background section, we explicitly stated units for the kinetic energy equation. Please show that potential energy and work have equivalent units by writing out the base SI units for these quantities, as well. \n",
    "\n",
    "3. Continuing from the example problem, please calculate the change in velocity that the apple experienced during its fall. Refer to the code above for an example of how to access values stored in the dictionary versus those stored as variables. Recall that `velocity_initial` is 0 because the object was at rest immediately before it began to fall. You will need to rearrange the work-energy theorem and expand the velocity term in the kinetic energy equation in order to solve for `velocity_final,`which will be the velocity of the apple as it hits the ground. \n",
    "\n",
    "4. What is the significance of the minus sign in the equation $PE = -W$? Hint: look at the final calculation of `work_done` in the example problem. "
   ]
  },
  {
   "cell_type": "code",
   "execution_count": null,
   "metadata": {},
   "outputs": [],
   "source": []
  }
 ],
 "metadata": {
  "kernelspec": {
   "display_name": "Python 3",
   "language": "python",
   "name": "python3"
  },
  "language_info": {
   "codemirror_mode": {
    "name": "ipython",
    "version": 3
   },
   "file_extension": ".py",
   "mimetype": "text/x-python",
   "name": "python",
   "nbconvert_exporter": "python",
   "pygments_lexer": "ipython3",
   "version": "3.7.7"
  }
 },
 "nbformat": 4,
 "nbformat_minor": 4
}
