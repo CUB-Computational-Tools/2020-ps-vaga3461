{
 "cells": [
  {
   "cell_type": "markdown",
   "metadata": {},
   "source": [
    "# Week 6: Revisiting Rheology"
   ]
  },
  {
   "cell_type": "markdown",
   "metadata": {},
   "source": [
    "## Introduction\n",
    "\n",
    "When you jump into a swimming pool, it's a completely different experience from putting your fist through a window. This has to do with the differences in <b><i>rheology</i></b> between glass and water. <b><i>Rheology describes the way in which a material deforms in response to stress</i></b>. Glass responds to your fist by shattering in a brittle fashion, while water flows around you when you jump into the pool. In this lab we will explore different types of deformation, and will apply our new knowledge of deformation to some geologic problems."
   ]
  },
  {
   "cell_type": "markdown",
   "metadata": {},
   "source": [
    "## Learning goals\n",
    "By the end of this lab, students should be able to:\n",
    "\n",
    "- Describe the physical relationship between stress and strain in elastic materials\n",
    "- Make basic plots using ggplot\n",
    "- Contextualize modes of deformation in terms of geologic processes"
   ]
  },
  {
   "cell_type": "markdown",
   "metadata": {},
   "source": [
    "## Background\n",
    "\n",
    "### Stress and strain\n",
    "\n",
    "As suggested in the introduction, different substances respond to stress in different ways. <b><i>Stress</i></b>, denoted by $\\sigma$, is a force per unit area exerted on an object. <b><i>Strain</i></b>, $\\epsilon$, is the objects's response to stress. Strain is expressed as a unitless number describing the change that an object has undergone (e.g., lateral stretching, shearing, etc.).\n",
    "\n",
    "In physics-speak, \"normal\" means \"perpendicular to a surface.\" Therefore, we call a strain that results from stress applied perpendicular to a surface the <b><i>normal strain</i></b> ($\\epsilon_N$). Normal strain may be computed by dividing the change in length by the original length. It is generally expressed as a percentage, hence why we multiply by 100 below.\n",
    "\n",
    "$$\\epsilon_N = \\frac{\\Delta L}{L} * 100$$\n",
    "\n",
    "Objects responding to stress can also exhibit <i><b>shear strain</b></i> ($\\gamma$), which is written as\n",
    "\n",
    "$$\\gamma = \\tan \\beta$$\n",
    "\n",
    "Unlike normal strain, which results from stress applied perpendicular to a surface, shear strain results from stress applied parallel to a surface. This type of strain is calculated from the tangent of the angle between the original and deformed sides. Both are shown below (from Sharir et al., 2008).\n",
    "\n",
    "<img src = 'data/normal_vs_shear.png' width = 500>"
   ]
  },
  {
   "cell_type": "markdown",
   "metadata": {},
   "source": [
    "## Rheology (styles of deformation)\n",
    "\n",
    "Normal and shear strain broadly describe deformation as a response to applied stresses; however, these terms tell us more about the stress that was applied than about the characteristic behavior of the material undergoing deformation. To understand material behavior, we recognize three modes of deformation: elastic, brittle-plastic, and viscous/ductile."
   ]
  },
  {
   "cell_type": "markdown",
   "metadata": {},
   "source": [
    "### Elastic\n",
    "\n",
    "Elastic materials, such as springs, rubber bands, and moon shoes, strain in proportion to the stress applied. In the case of deformation of a spring, we write Hooke's Law. This law states that the force (which is related to stress by unit area) required to displace an object some distance is equal to the length of displacement times a constant\n",
    "\n",
    "$$F = kx$$\n",
    "\n",
    "where $x$ is the change in length of the object undergoing deformation and $k$ is the spring constant. Can you work out the units of $k$? Now think carefully about what this equation tells us about material behavior. We can see that if the force applied is 0, displacement must also be 0. This is the defining characteristic of elastic objects: they regain their original shape when the force applied is removed. This lab will focus on elastic deformation.\n",
    "\n",
    "Hooke's Law can be written in a more general form as\n",
    "\n",
    "$$\\sigma = E\\epsilon$$\n",
    "\n",
    "where $E$ is a factor called Young's modulus, and $\\sigma$ and $\\epsilon$ have been defined above as stress and strain, respectively."
   ]
  },
  {
   "cell_type": "markdown",
   "metadata": {},
   "source": [
    "### Brittle-plastic deformation\n",
    "\n",
    "Many materials fall into the plastic rheology class. These materials can withstand a finite amount of stress for which they will experience minimal strain. However, when stress exceeds the material's strength, they will begin to deform permanently (and often rapidly). If the deformation is discontinuous (meaning the material physically shatters), such as the crust fracturing in a geologic fault zone, we say it is <b><i>brittle-plastic</i></b> deformation. If deformation is continuous, permanent, and requires crossing a stress threshold to occur, then we say it is <i><b>plastic, or ductile</b></i>. Can you think of an example of ductile deformation?\n",
    "\n",
    "The schematic below (from degreetutors.com) illustrates stress-strain relationships in plastic materials.\n",
    "\n",
    "<img src = 'data/stress_strain.png' width = 500>"
   ]
  },
  {
   "cell_type": "markdown",
   "metadata": {},
   "source": [
    "### Linear viscous\n",
    "\n",
    "Linear viscous materials (linear viscous fluids) undergo continuous and permanent deformation. This means that unlike plastic materials, there is no strength threshold that needs to be exceeded for deformation to occur. And unlike elastic materials, linear viscous fluids do not \"bounce back\" from an applied stress.\n",
    "\n",
    "Think about the example of jumping into a pool of water. The fact that the water reshapes to a flat surface after you jump into the pool does not mean that the deformation has been undone, just that the process of deformation involved water moving until its new surface was flat. If we could see the individual water molecules, we would see that the structure of the fluid is irreversibly changed every time it deforms.\n",
    "\n",
    "We will discuss viscous rheologies more in the next lab. For now, you should know that linear viscous fluids exhibit a linear relationship between stress and strain rate, multiplied by the fluid's dynamic viscosity. We typically expresses linear viscous deformation in terms of the shear component of stress and the shear strain rate:\n",
    "\n",
    "$$\\tau = \\mu \\frac{d\\gamma}{dt}$$\n",
    "\n",
    "where $\\tau$ is shear stress, $\\mu$ is dynamic viscosity, and $\\frac{d\\gamma}{dt}$ is shear strain rate.\n",
    "\n",
    "As we think explore rheology throughout today's lab, ask yourself:\n",
    "\n",
    "- Why are elastic and plastic rheologies expressed in terms of strain, and linear viscous rheology is in terms of strain rate?\n",
    "- Why do we only care about the shear component in linear viscous deformation?\n",
    "- Does this makes sense to you? Why or why not?\n",
    "\n",
    "We will explore these ideas more in our next lab."
   ]
  },
  {
   "cell_type": "markdown",
   "metadata": {},
   "source": [
    "## An example\n",
    "\n",
    "Imagine you wanedt to conduct an experiment to investigate elastic behavior. You could do this very simply using household items, such as a rubber band, a plastic baggie, and an assortment of coins (in this example, we'll just say you used pennies.) By placing known quantities of pennies in the bag and suspending the bag from the rubber band, you cause a downward directed force which results in displacement (stretching) of the band. By tracking both the weight suspended and the resultant displacement, you can make a plot that will reveal whether or not the rubber band obeys linear elastic behavior, i.e. Hooke's Law. \n",
    "\n",
    "Throughout your experiment, you collect the following data. Note that the weight of the plastic baggie is assumed to be negligible:"
   ]
  },
  {
   "cell_type": "code",
   "execution_count": null,
   "metadata": {},
   "outputs": [],
   "source": [
    "# we'll start by importing tidyverse, which includes all the functionality that we'll need for this exercise\n",
    "library('tidyverse')"
   ]
  },
  {
   "cell_type": "code",
   "execution_count": null,
   "metadata": {},
   "outputs": [],
   "source": [
    "# masses and weights\n",
    "\n",
    "g <- 9.81 # gravitational accleration, m/s^2, which we'll need to calculate weight\n",
    "mass_of_penny <- 2.50 # grams\n",
    "weight_of_penny <- g*mass_of_penny\n",
    "\n",
    "# weights are typically reported in N, or kg m/s^2\n",
    "# right now, `weight_of_penny` is in g m/s^2\n",
    "# to get weight in N, we need to divide our weight by 1000\n",
    "weight_of_penny_N <- weight_of_penny/1000"
   ]
  },
  {
   "cell_type": "markdown",
   "metadata": {},
   "source": [
    "Excellent, we now know the weight of a single penny in Newtons. The next steps are to create a sequence of all the different quantities of pennies that we tested, and to convert those quantities into weights.\n",
    "\n",
    "We started without any pennies suspended from our rubber band, and we added weight incrementally by 5 pennies at a time, until we had 20 pennies in the bag suspended from our rubber band. R makes it easy to create an evenly spaced sequence to represent our experimental setup. After we've created the sequence of all of our pennies, we can multiply that sequence by the weight of a single penny. This will then give us the weight that we tested in each trial."
   ]
  },
  {
   "cell_type": "code",
   "execution_count": null,
   "metadata": {},
   "outputs": [],
   "source": [
    "# create sequence of quantities of pennies tested\n",
    "penny_seq <- seq(from = 0, to = 20, by =5)\n",
    "\n",
    "# convert the number of pennies tested in each trial into a weight\n",
    "# this means every element in the sequence gets multiplied by the weight of a single penny\n",
    "weight_seq <- penny_seq * weight_of_penny_N\n",
    "\n",
    "# print the sequences to make sure you understand what's happened:\n",
    "print(cat('penny sequence:', penny_seq))\n",
    "print(cat('weight sequence:', weight_seq))"
   ]
  },
  {
   "cell_type": "markdown",
   "metadata": {},
   "source": [
    "Fantastic! We've now coded up our experimental setup, meaning we've encoded both the number of pennies and the total weight tested in each trial. Now we need to figure out how the rubber band responded to the force being exerted on it by the suspended weights.\n",
    "\n",
    "We can do this by measuring the length of the rubber band in each trial, and converting that length to a displacement. We'll have one length measurement and one displacement measurement for each trial. We'll store these measurements in vectors. Follow along with the code below."
   ]
  },
  {
   "cell_type": "code",
   "execution_count": null,
   "metadata": {},
   "outputs": [],
   "source": [
    "# the original length of our rubber band was four inches\n",
    "# each time we added weight, we measured a new length that resulted from the band being stretched\n",
    "length_inches <- c(4, 4.125, 4.25, 4.375, 4.5)\n",
    "\n",
    "# however, what we're really interested in is displacement, not length.\n",
    "# to get displacement, we'll subtract the initial length from the entire vector\n",
    "displacement_inches <- length_inches - 4\n",
    "\n",
    "# we want units in meters, so we'll perform another operation\n",
    "displacement_m <- displacement_inches/39.4 # there are 39.4 inches in a meter\n",
    "\n",
    "# again, print your vectors to make sure you've followed along\n",
    "print(length_inches)\n",
    "print(displacement_inches)\n",
    "print(displacement_m)"
   ]
  },
  {
   "cell_type": "markdown",
   "metadata": {},
   "source": [
    "Great, we now have all the data we need to investigate whether or not our rubber band is consistent with Hooke's Law! The last step is simply to gather all of our data into a tibble (dataframe.) This will enable use to use R's ggplot library."
   ]
  },
  {
   "cell_type": "code",
   "execution_count": null,
   "metadata": {},
   "outputs": [],
   "source": [
    "# make a tibble from our data\n",
    "data <- tibble(penny_seq, weight_seq, length_inches, displacement_inches, displacement_m)"
   ]
  },
  {
   "cell_type": "code",
   "execution_count": null,
   "metadata": {},
   "outputs": [],
   "source": [
    "# create a plot, called 'Hookes_Law,' using ggplot\n",
    "Hookes_Law <- ggplot(data = data, aes(x = weight_seq, y = displacement_m)) + geom_point() + labs(title = 'Hookes Law', x = 'Force (N)', y = 'Displacement (m)')\n",
    "\n",
    "# view the plot\n",
    "Hookes_Law"
   ]
  },
  {
   "cell_type": "markdown",
   "metadata": {},
   "source": [
    "And that's all there is to it! You can embellish this plot with different colors, a larger font size, annotations, etc., but it has the functional basics now. We can see that the relationship between force and displacement is indeed linear, so we can say our rubber band demonstrates perfect, linear elastic behavior."
   ]
  },
  {
   "cell_type": "markdown",
   "metadata": {},
   "source": [
    "## Questions"
   ]
  },
  {
   "cell_type": "markdown",
   "metadata": {},
   "source": [
    "1. In the background section of this lab, we state Hooke's Law for spring deformation:\n",
    "\n",
    "$$F = xk$$\n",
    "\n",
    ">We then state a \"more general\" equation with a parameter $E$, the Young's modulus:\n",
    "\n",
    "$$\\sigma = E\\epsilon$$\n",
    "\n",
    ">We say that these are equivalent; how can we get from one equation to the other?\n",
    "\n",
    "2. In one or two sentences, please explain the relationship between stress and strain in elastic materials. What is the characteristic behavior of these materials?\n",
    "\n",
    "3. Imagine you tested the same set of weights as used in the example on a different spring. The amount of extension experienced by the new spring was triple the extension in the original spring for each weight. Please manipulate the already created displacement_array_m to reflect this change. Then, please make a plot with both lines appearing on the same graph (HINT: a lot of coding is searching the internet for an example where someone else has already tackled a similar problem. In this case, a quick Google of \"how to put two lines on one graph matplotlib\" will help if you're stuck). You're plot should include axis labels, titles, etc, just like the example. Finally, summarize the plot in one or two sentences, relating the lines that you've graphed to Hooke's Law. What does this tell you about the materials?\n",
    "\n",
    "4. Like many materials, the Earth's crust can display a combination of rheologic behaviors. Can you think of an example of the crust behaving in each of the following ways? Please justify.\n",
    "- elastic\n",
    "- brittle-plastic\n",
    "- ductile"
   ]
  },
  {
   "cell_type": "markdown",
   "metadata": {},
   "source": [
    "## Solutions"
   ]
  },
  {
   "cell_type": "markdown",
   "metadata": {},
   "source": [
    "1. We can transition between Hooke's Law and the Young's modulus equation by recalling that stress is a force per unit area. Therefore, we need only divide Hooke's Law by a unit area in order to be working in terms of stress, as in the Young's modulus equation."
   ]
  },
  {
   "cell_type": "markdown",
   "metadata": {},
   "source": [
    "2. Stress and strain are linearly proportional in elastic materials. This means that for every incremental increase in stress, strain increases the same amount. The characteristic behavior of these materials is that when a stress (or force) ceases to be applied, the object regains its original, undeformed shape."
   ]
  },
  {
   "cell_type": "markdown",
   "metadata": {},
   "source": [
    "3. The steps for this problem are:\n",
    "- multiply the displacement column in the data tibble by 3\n",
    "- add this displacement as a new column to the data tibble\n",
    "- plot the new displacements on a plot that also contains the original displacements\n",
    "- say a few words about what the graph shows"
   ]
  },
  {
   "cell_type": "code",
   "execution_count": null,
   "metadata": {},
   "outputs": [],
   "source": [
    "# calculate new displacement\n",
    "new_displacement <- data$displacement_m * 3\n",
    "\n",
    "# add the new displacements as a new column in the tibble\n",
    "data%>%add_column(new_displacement)\n",
    "\n",
    "# make a new plot\n",
    "Hookes_Law_again <- ggplot(data = data, aes(x = weight_seq)) + geom_line(aes(y = displacement_m), color = 'darkred') + geom_line(aes(y = new_displacement), color = 'blue') + labs(title = 'Hookes Law', x = 'Force (N)', y = 'Displacement (m)')\n",
    "# couldn't figure out how to make a legend for each line!\n",
    "\n",
    "# view the plot\n",
    "Hookes_Law_again"
   ]
  },
  {
   "cell_type": "markdown",
   "metadata": {},
   "source": [
    "The slope of these lines is equal to the spring constant, $k$, from Hooke's Law. This shows us that the second spring tested, represented by the dark blue line, has a higher spring constant. This means that it requires more force on spring 1 to produce the same amount of displacement as on spring 2. We could say that spring 1 is more \"rigid\" than spring 2."
   ]
  },
  {
   "cell_type": "markdown",
   "metadata": {},
   "source": [
    "4. The crust behaves like an elastic solid when it undergoes isostatic rebound after an ice sheet melts, because it returns to its undeformed shape once the stress ceases to be applied. A fault is an example of brittle-plastic deformation, because the strain is permanent and discontinuous, meaning that the material has physically fractured. And the crust can behave in a ductile fashion at depth when rock layers become folded in an orogen. In this type of deformation, the strain is permanent but the crust hasn't physically broken apart."
   ]
  }
 ],
 "metadata": {
  "kernelspec": {
   "display_name": "R",
   "language": "R",
   "name": "ir"
  },
  "language_info": {
   "codemirror_mode": "r",
   "file_extension": ".r",
   "mimetype": "text/x-r-source",
   "name": "R",
   "pygments_lexer": "r",
   "version": "4.0.2"
  }
 },
 "nbformat": 4,
 "nbformat_minor": 4
}
