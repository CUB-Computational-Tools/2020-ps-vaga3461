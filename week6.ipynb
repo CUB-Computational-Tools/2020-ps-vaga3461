{
 "cells": [
  {
   "cell_type": "markdown",
   "metadata": {},
   "source": [
    "# Week 6: Revisiting Rheology"
   ]
  },
  {
   "cell_type": "markdown",
   "metadata": {},
   "source": [
    "## Introduction\n",
    "\n",
    "When you jump into a swimming pool, it's a completely different experience from putting your fist through a window. This has to do with the differences in <b><i>rheology</i></b> between glass and water. <b><i>Rheology describes the way in which a material deforms in response to stress</i></b>. Glass responds to your fist by shattering in a brittle fashion, while water flows around you when you jump into the pool. In this lab we will explore different types of deformation, and will apply our new knowledge of deformation to some geologic problems."
   ]
  },
  {
   "cell_type": "markdown",
   "metadata": {},
   "source": [
    "## Learning goals\n",
    "By the end of this lab, students should be able to:\n",
    "\n",
    "- Describe the physical relationship between stress and strain in elastic materials\n",
    "- Make basic plots using ggplot\n",
    "- Contextualize modes of deformation in terms of geologic processes"
   ]
  },
  {
   "cell_type": "markdown",
   "metadata": {},
   "source": [
    "## Background\n",
    "\n",
    "### Stress and strain\n",
    "\n",
    "As suggested in the introduction, different substances respond to stress in different ways. <b><i>Stress</i></b>, denoted by $\\sigma$, is a force per unit area exerted on an object. <b><i>Strain</i></b>, $\\epsilon$, is the objects's response to stress. Strain is expressed as a unitless number describing the change that an object has undergone (e.g., lateral stretching, shearing, etc.).\n",
    "\n",
    "In physics-speak, \"normal\" means \"perpendicular to a surface.\" Therefore, we call a strain that results from stress applied perpendicular to a surface the <b><i>normal strain</i></b> ($\\epsilon_N$). Normal strain may be computed by dividing the change in length by the original length. It is generally expressed as a percentage, hence why we multiply by 100 below.\n",
    "\n",
    "$$\\epsilon_N = \\frac{\\Delta L}{L} * 100$$\n",
    "\n",
    "Objects responding to stress can also exhibit <i><b>shear strain</b></i> ($\\gamma$), which is written as\n",
    "\n",
    "$$\\gamma = \\tan \\beta$$\n",
    "\n",
    "Unlike normal strain, which results from stress applied perpendicular to a surface, shear strain results from stress applied parallel to a surface. This type of strain is calculated from the tangent of the angle between the original and deformed sides. Both are shown below (from Sharir et al., 2008).\n",
    "\n",
    "<img src = 'data/normal_vs_shear.png' width = 500>"
   ]
  },
  {
   "cell_type": "markdown",
   "metadata": {},
   "source": [
    "## Rheology (styles of deformation)\n",
    "\n",
    "Normal and shear strain broadly describe deformation as a response to applied stresses; however, these terms tell us more about the stress that was applied than about the characteristic behavior of the material undergoing deformation. To understand material behavior, we recognize three modes of deformation: elastic, brittle-plastic, and viscous/ductile."
   ]
  },
  {
   "cell_type": "markdown",
   "metadata": {},
   "source": [
    "### Elastic\n",
    "\n",
    "Elastic materials, such as springs, rubber bands, and moon shoes, strain in proportion to the stress applied. In the case of deformation of a spring, we write Hooke's Law. This law states that the force (which is related to stress by unit area) required to displace an object some distance is equal to the length of displacement times a constant\n",
    "\n",
    "$$F = kx$$\n",
    "\n",
    "where $x$ is the change in length of the object undergoing deformation and $k$ is the spring constant. Can you work out the units of $k$? Now think carefully about what this equation tells us about material behavior. We can see that if the force applied is 0, displacement must also be 0. This is the defining characteristic of elastic objects: they regain their original shape when the force applied is removed. This lab will focus on elastic deformation.\n",
    "\n",
    "Hooke's Law can be written in a more general form as\n",
    "\n",
    "$$\\sigma = E\\epsilon$$\n",
    "\n",
    "where $E$ is a factor called Young's modulus, and $\\sigma$ and $\\epsilon$ have been defined above as stress and strain, respectively."
   ]
  },
  {
   "cell_type": "markdown",
   "metadata": {},
   "source": [
    "### Brittle-plastic deformation\n",
    "\n",
    "Many materials fall into the plastic rheology class. These materials can withstand a finite amount of stress for which they will experience minimal strain. However, when stress exceeds the material's strength, they will begin to deform permanently (and often rapidly). If the deformation is discontinuous (meaning the material physically shatters), such as the crust fracturing in a geologic fault zone, we say it is <b><i>brittle-plastic</i></b> deformation. If deformation is continuous, permanent, and requires crossing a stress threshold to occur, then we say it is <i><b>plastic, or ductile</b></i>. Can you think of an example of ductile deformation?\n",
    "\n",
    "The schematic below (from degreetutors.com) illustrates stress-strain relationships in plastic materials.\n",
    "\n",
    "<img src = 'data/stress_strain.png' width = 500>"
   ]
  },
  {
   "cell_type": "markdown",
   "metadata": {},
   "source": [
    "### Linear viscous\n",
    "\n",
    "Linear viscous materials (linear viscous fluids) undergo continuous and permanent deformation. This means that unlike plastic materials, there is no strength threshold that needs to be exceeded for deformation to occur. And unlike elastic materials, linear viscous fluids do not \"bounce back\" from an applied stress.\n",
    "\n",
    "Think about the example of jumping into a pool of water. The fact that the water reshapes to a flat surface after you jump into the pool does not mean that the deformation has been undone, just that the process of deformation involved water moving until its new surface was flat. If we could see the individual water molecules, we would see that the structure of the fluid is irreversibly changed every time it deforms.\n",
    "\n",
    "We will discuss viscous rheologies more in the next lab. For now, you should know that linear viscous fluids exhibit a linear relationship between stress and strain rate, multiplied by the fluid's dynamic viscosity. We typically expresses linear viscous deformation in terms of the shear component of stress and the shear strain rate:\n",
    "\n",
    "$$\\tau = \\mu \\frac{d\\gamma}{dt}$$\n",
    "\n",
    "where $\\tau$ is shear stress, $\\mu$ is dynamic viscosity, and $\\frac{d\\gamma}{dt}$ is shear strain rate.\n",
    "\n",
    "As we think explore rheology throughout today's lab, ask yourself:\n",
    "\n",
    "- Why are elastic and plastic rheologies expressed in terms of strain, and linear viscous rheology is in terms of strain rate?\n",
    "- Why do we only care about the shear component in linear viscous deformation?\n",
    "- Does this makes sense to you? Why or why not?\n",
    "\n",
    "We will explore these ideas more in our next lab."
   ]
  },
  {
   "cell_type": "markdown",
   "metadata": {},
   "source": [
    "## An example\n",
    "\n",
    "Imagine you wanted to conduct an experiment to investigate elastic behavior. You could do this very simply using household items, such as a rubber band and an assortment of coins (in this example, we'll just use pennies.) By suspending known quantities of pennies from the rubber band, we cause a downward directed force which results in displacement (stretching) of the band. By tracking both the weight suspended and the resultant displacement, we can make a plot that will reveal whether or not our rubber band obeys linear elastic behavior, i.e. Hooke's Law. \n",
    "\n",
    "Data for such an experiment has already been compiled; here, we'll read it in as a .csv file and make a plot."
   ]
  },
  {
   "cell_type": "code",
   "execution_count": 30,
   "metadata": {},
   "outputs": [
    {
     "name": "stderr",
     "output_type": "stream",
     "text": [
      "-- \u001b[1mAttaching packages\u001b[22m --------------------------------------- tidyverse 1.3.0 --\n",
      "\n",
      "\u001b[32mv\u001b[39m \u001b[34mtibble \u001b[39m 3.0.3     \u001b[32mv\u001b[39m \u001b[34mstringr\u001b[39m 1.4.0\n",
      "\u001b[32mv\u001b[39m \u001b[34mtidyr  \u001b[39m 1.1.1     \u001b[32mv\u001b[39m \u001b[34mforcats\u001b[39m 0.5.0\n",
      "\u001b[32mv\u001b[39m \u001b[34mpurrr  \u001b[39m 0.3.4     \n",
      "\n",
      "-- \u001b[1mConflicts\u001b[22m ------------------------------------------ tidyverse_conflicts() --\n",
      "\u001b[31mx\u001b[39m \u001b[34mdplyr\u001b[39m::\u001b[32mfilter()\u001b[39m masks \u001b[34mstats\u001b[39m::filter()\n",
      "\u001b[31mx\u001b[39m \u001b[34mdplyr\u001b[39m::\u001b[32mlag()\u001b[39m    masks \u001b[34mstats\u001b[39m::lag()\n",
      "\n"
     ]
    }
   ],
   "source": [
    "# we'll start by importing tidyverse, which includes all the functionality that we'll need for this exercise\n",
    "# install.packages('tidyverse')\n",
    "library('tidyverse')"
   ]
  },
  {
   "cell_type": "code",
   "execution_count": 40,
   "metadata": {},
   "outputs": [],
   "source": [
    "# experiment_data <- read_csv('data/rubber band experiment.csv')"
   ]
  },
  {
   "cell_type": "code",
   "execution_count": 38,
   "metadata": {},
   "outputs": [],
   "source": [
    "# test <- ggplot(data = experiment_data, aes(x = 'weight of pennies (N)', y = 'displacement (m)')) + geom_point()"
   ]
  },
  {
   "cell_type": "code",
   "execution_count": 13,
   "metadata": {},
   "outputs": [],
   "source": [
    "# masses and weights\n",
    "\n",
    "g <- 9.81 # gravitational accleration, m/s^2\n",
    "mass_of_penny <- 2.50 # grams\n",
    "weight_of_penny <- g*mass_of_penny"
   ]
  },
  {
   "cell_type": "code",
   "execution_count": 41,
   "metadata": {},
   "outputs": [
    {
     "name": "stdout",
     "output_type": "stream",
     "text": [
      "penny sequence: 0 5 10 15 20NULL\n",
      "weight sequence: 0 122.625 245.25 367.875 490.5NULL\n",
      "weight sequence in kg: 0 0.122625 0.24525 0.367875 0.4905NULL\n"
     ]
    }
   ],
   "source": [
    "# now we should make a sequence that represents the number of pennies that we tested, and their weights\n",
    "# we started without any pennies suspended from our spring, so our range will start at 0\n",
    "# the greatest number of pennies that we tested was 20\n",
    "# and we tested by increments of 5\n",
    "penny_seq <- seq(from = 0, to = 20, by =5)\n",
    "\n",
    "# now we want to convert the number of pennies tested in each trial into a weight\n",
    "# we can do this by performing an operation on the penny_seq, and saving that result to a new sequence\n",
    "weight_seq <- penny_seq * weight_of_penny\n",
    "\n",
    "# let's perform another operation to make sure the weights are in kg m/s^2 (currently they are g m/s^2)\n",
    "# we can do this by dividing by 1000\n",
    "weight_seq_kg <- weight_seq/1000\n",
    "\n",
    "# print all arrays to make sure you understand what's happened:\n",
    "print(cat('penny sequence:', penny_seq))\n",
    "print(cat('weight sequence:', weight_seq))\n",
    "print(cat('weight sequence in kg:', weight_seq_kg))"
   ]
  },
  {
   "cell_type": "code",
   "execution_count": 43,
   "metadata": {},
   "outputs": [
    {
     "name": "stdout",
     "output_type": "stream",
     "text": [
      "[1] 4.000 4.125 4.250 4.375 4.500\n",
      "[1] 0.000 0.125 0.250 0.375 0.500\n",
      "[1] 0.000000000 0.003172589 0.006345178 0.009517766 0.012690355\n"
     ]
    }
   ],
   "source": [
    "# now we'll create a vector to store the length and displacement measurements of our spring\n",
    "# we'll enter these values by hand, in case they're unevenly spaced\n",
    "# instead of starting at 0, our vector start at 4, because the original length of our rubber band was four inches\n",
    "length_inches <- c(4, 4.125, 4.25, 4.375, 4.5)\n",
    "\n",
    "# however, what we're really interested in is displacement, not length.\n",
    "# to get displacement, we'll subtract the initial length from the entire vector\n",
    "displacement_inches <- length_inches - 4\n",
    "\n",
    "# we want units in meters, so we'll perform another operation\n",
    "displacement_m <- displacement_inches/39.4 # there are 39.4 inches in a meter\n",
    "\n",
    "# again, print your arrays to make sure you've followed along\n",
    "print(length_inches)\n",
    "print(displacement_inches)\n",
    "print(displacement_m)"
   ]
  },
  {
   "cell_type": "code",
   "execution_count": 45,
   "metadata": {},
   "outputs": [
    {
     "name": "stdout",
     "output_type": "stream",
     "text": [
      "weight sequence kg type:  doubleNULL\n",
      "weight sequence kg length:  5NULL\n",
      "displacement m type:  doubleNULL\n",
      "displacement m length:  5NULL\n"
     ]
    }
   ],
   "source": [
    "# when we plot our data, we'll want to make sure that our x and y data are of the same length and type\n",
    "# check them out now before plotting\n",
    "\n",
    "print(cat('weight sequence kg type: ', typeof(weight_seq_kg)))\n",
    "print(cat('weight sequence kg length: ', length(weight_seq_kg)))\n",
    "print(cat('displacement m type: ', typeof(displacement_m)))\n",
    "print(cat('displacement m length: ', length(displacement_m)))"
   ]
  },
  {
   "cell_type": "code",
   "execution_count": 54,
   "metadata": {},
   "outputs": [
    {
     "data": {
      "image/png": "[encoded data removed]",
      "text/plain": [
       "Plot with title \"Hooke's Law demonstrated in a rubber band\""
      ]
     },
     "metadata": {
      "image/png": {
       "height": 420,
       "width": 420
      }
     },
     "output_type": "display_data"
    }
   ],
   "source": [
    "# time to plot! \n",
    "# we want our weight (force) on the x-axis, and displacement on the y-axis\n",
    "\n",
    "# hookes_law <- ggplot(data = aes(x = weight_array_kg, y = displacement_array_m))\n",
    "# + geom_point()\n",
    "\n",
    "plot(displacement_m,\n",
    "     weight_seq_kg, \n",
    "    xlab = 'Displacement (m)',\n",
    "    ylab = 'Force (N)',\n",
    "     main = 'Hooke\\'s Law demonstrated in a rubber band',\n",
    "    col = 'blue')"
   ]
  },
  {
   "cell_type": "markdown",
   "metadata": {},
   "source": [
    "And that's all there is to it! You can embellish this plot with different colors, a larger font size, annotations, etc., but it has the functional basics now. We can see that the relationship between force and displacement is indeed linear, so we can say our rubber band demonstrates perfect, linear elastic behavior."
   ]
  },
  {
   "cell_type": "markdown",
   "metadata": {},
   "source": [
    "## Questions"
   ]
  },
  {
   "cell_type": "markdown",
   "metadata": {},
   "source": [
    "1. In the background section of this lab, we state Hooke's Law for spring deformation:\n",
    "\n",
    "$$F = xk$$\n",
    "\n",
    ">We then state a \"more general\" equation with a parameter $E$, the Young's modulus:\n",
    "\n",
    "$$\\sigma = E\\epsilon$$\n",
    "\n",
    ">We say that these are equivalent; how can we get from one equation to the other?\n",
    "\n",
    "2. In one or two sentences, please explain the relationship between stress and strain in elastic materials. What is the characteristic behavior of these materials?\n",
    "\n",
    "3. Imagine you tested the same set of weights as used in the example on a different spring. The amount of extension experienced by the new spring was triple the extension in the original spring for each weight. Please manipulate the already created displacement_array_m to reflect this change. Then, please make a plot with both lines appearing on the same graph (HINT: a lot of coding is searching the internet for an example where someone else has already tackled a similar problem. In this case, a quick Google of \"how to put two lines on one graph matplotlib\" will help if you're stuck). You're plot should include axis labels, titles, etc, just like the example. Finally, summarize the plot in one or two sentences, relating the lines that you've graphed to Hooke's Law. What does this tell you about the materials?\n",
    "\n",
    "4. Like many materials, the Earth's crust can display a combination of rheologic behaviors. Can you think of an example of the crust behaving in each of the following ways? Please justify.\n",
    "- elastic\n",
    "- brittle-plastic\n",
    "- ductile"
   ]
  },
  {
   "cell_type": "code",
   "execution_count": null,
   "metadata": {},
   "outputs": [],
   "source": []
  }
 ],
 "metadata": {
  "kernelspec": {
   "display_name": "R",
   "language": "R",
   "name": "ir"
  },
  "language_info": {
   "codemirror_mode": "r",
   "file_extension": ".r",
   "mimetype": "text/x-r-source",
   "name": "R",
   "pygments_lexer": "r",
   "version": "4.0.2"
  }
 },
 "nbformat": 4,
 "nbformat_minor": 4
}
